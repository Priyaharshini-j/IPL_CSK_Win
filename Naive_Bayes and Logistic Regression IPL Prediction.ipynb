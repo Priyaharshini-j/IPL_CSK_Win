{
  "cells": [
    {
      "cell_type": "markdown",
      "metadata": {
        "id": "8hQiODpM86XM"
      },
      "source": [
        "Importing all the necessary Libraries"
      ]
    },
    {
      "cell_type": "code",
      "execution_count": null,
      "metadata": {
        "id": "4z_ukk-jLlXE"
      },
      "outputs": [],
      "source": [
        "import numpy as num  #to perform wide variety of mathematical calculation on array\n",
        "import pandas as pd  #for data manupulation in data frames\n",
        "from sklearn.preprocessing import StandardScaler #for invoking StandardScaler() that is to standardized the data into same range\n",
        "from sklearn.model_selection import train_test_split #for train_test_split()\n",
        "from sklearn.metrics import accuracy_score #for calculating the accuracy_score"
      ]
    },
    {
      "cell_type": "markdown",
      "metadata": {
        "id": "Fpftdp_g9HnT"
      },
      "source": [
        "Dataset uploaded using pandas"
      ]
    },
    {
      "cell_type": "code",
      "execution_count": null,
      "metadata": {
        "colab": {
          "base_uri": "https://localhost:8080/"
        },
        "id": "gkVhCIDOY2mX",
        "outputId": "8a40e8b6-7260-4f91-c2e8-84c2268ded69"
      },
      "outputs": [
        {
          "name": "stderr",
          "output_type": "stream",
          "text": [
            "/usr/local/lib/python3.7/dist-packages/IPython/core/interactiveshell.py:2882: DtypeWarning: Columns (10) have mixed types.Specify dtype option on import or set low_memory=False.\n",
            "  exec(code_obj, self.user_global_ns, self.user_ns)\n"
          ]
        }
      ],
      "source": [
        "data1=pd.read_csv('/content/Match.csv')\n",
        "data2=pd.read_csv('/content/Ball_by_Ball.csv')"
      ]
    },
    {
      "cell_type": "markdown",
      "metadata": {
        "id": "fmLTzd9V9sPK"
      },
      "source": [
        "Now I had merged the Match.csv and Ball_by_Ball.csv based on Match_Id"
      ]
    },
    {
      "cell_type": "code",
      "execution_count": null,
      "metadata": {
        "id": "pi4-2TaPcaaW"
      },
      "outputs": [],
      "source": [
        "output1=pd.merge(data1,data2,on='Match_Id',how='outer')"
      ]
    },
    {
      "cell_type": "code",
      "execution_count": null,
      "metadata": {
        "colab": {
          "base_uri": "https://localhost:8080/"
        },
        "id": "7vVjWpC7dARg",
        "outputId": "5e7ef32f-1293-4d3f-95bc-4410855b1e45"
      },
      "outputs": [
        {
          "name": "stdout",
          "output_type": "stream",
          "text": [
            "       Match_Id Match_Date  Team_Name_Id  Opponent_Team_Id  Season_Id  \\\n",
            "0        335987  18-Apr-08           2.0               1.0        1.0   \n",
            "1        335987  18-Apr-08           2.0               1.0        1.0   \n",
            "2        335987  18-Apr-08           2.0               1.0        1.0   \n",
            "3        335987  18-Apr-08           2.0               1.0        1.0   \n",
            "4        335987  18-Apr-08           2.0               1.0        1.0   \n",
            "...         ...        ...           ...               ...        ...   \n",
            "72978    981018  24-May-16          13.0               2.0        9.0   \n",
            "72979    981020  25-May-16          11.0               1.0        9.0   \n",
            "72980    981022  27-May-16          13.0              11.0        9.0   \n",
            "72981    981024  29-May-16           2.0              11.0        9.0   \n",
            "72982      5483        NaN           NaN               NaN        NaN   \n",
            "\n",
            "                  Venue_Name  Toss_Winner_Id Toss_Decision  IS_Superover  \\\n",
            "0      M Chinnaswamy Stadium             2.0         field           0.0   \n",
            "1      M Chinnaswamy Stadium             2.0         field           0.0   \n",
            "2      M Chinnaswamy Stadium             2.0         field           0.0   \n",
            "3      M Chinnaswamy Stadium             2.0         field           0.0   \n",
            "4      M Chinnaswamy Stadium             2.0         field           0.0   \n",
            "...                      ...             ...           ...           ...   \n",
            "72978  M Chinnaswamy Stadium             2.0         field           0.0   \n",
            "72979       Feroz Shah Kotla             1.0         field           0.0   \n",
            "72980       Feroz Shah Kotla            11.0         field           0.0   \n",
            "72981  M Chinnaswamy Stadium            11.0           bat           0.0   \n",
            "72982                    NaN             NaN           NaN           NaN   \n",
            "\n",
            "       IS_Result  ...  Striker_Id Striker_Batting_Position  Non_Striker_Id  \\\n",
            "0            1.0  ...         1.0                      1.0             2.0   \n",
            "1            1.0  ...         2.0                      2.0             1.0   \n",
            "2            1.0  ...         2.0                      2.0             1.0   \n",
            "3            1.0  ...         2.0                      2.0             1.0   \n",
            "4            1.0  ...         2.0                      2.0             1.0   \n",
            "...          ...  ...         ...                      ...             ...   \n",
            "72978        1.0  ...         NaN                      NaN             NaN   \n",
            "72979        1.0  ...         NaN                      NaN             NaN   \n",
            "72980        1.0  ...         NaN                      NaN             NaN   \n",
            "72981        1.0  ...         NaN                      NaN             NaN   \n",
            "72982        NaN  ...         NaN                      NaN             NaN   \n",
            "\n",
            "       Bowler_Id  Batsman_Scored  Extra_Type  Extra_Runs Player_dissimal_Id  \\\n",
            "0           14.0               0     legbyes           1                      \n",
            "1           14.0               0                                              \n",
            "2           14.0               0       wides           1                      \n",
            "3           14.0               0                                              \n",
            "4           14.0               0                                              \n",
            "...          ...             ...         ...         ...                ...   \n",
            "72978        NaN             NaN         NaN         NaN                NaN   \n",
            "72979        NaN             NaN         NaN         NaN                NaN   \n",
            "72980        NaN             NaN         NaN         NaN                NaN   \n",
            "72981        NaN             NaN         NaN         NaN                NaN   \n",
            "72982        NaN             NaN         NaN         NaN                NaN   \n",
            "\n",
            "      Dissimal_Type  Fielder_Id  \n",
            "0                                \n",
            "1                                \n",
            "2                                \n",
            "3                                \n",
            "4                                \n",
            "...             ...         ...  \n",
            "72978           NaN         NaN  \n",
            "72979           NaN         NaN  \n",
            "72980           NaN         NaN  \n",
            "72981           NaN         NaN  \n",
            "72982           NaN         NaN  \n",
            "\n",
            "[72983 rows x 34 columns]\n"
          ]
        }
      ],
      "source": [
        "print(output1)"
      ]
    },
    {
      "cell_type": "markdown",
      "metadata": {
        "id": "44lFxZa9-t_Y"
      },
      "source": [
        "Merging Player_Match.csv to the already merged data"
      ]
    },
    {
      "cell_type": "code",
      "execution_count": null,
      "metadata": {
        "id": "GOfD8anVdGPN"
      },
      "outputs": [],
      "source": [
        "data3 = pd.read_csv('/content/Player_Match.csv')"
      ]
    },
    {
      "cell_type": "code",
      "execution_count": null,
      "metadata": {
        "id": "ivPqIkIdet1K"
      },
      "outputs": [],
      "source": [
        "output2=pd.merge(output1,data3,on='Match_Id',how='outer')"
      ]
    },
    {
      "cell_type": "code",
      "execution_count": null,
      "metadata": {
        "colab": {
          "base_uri": "https://localhost:8080/"
        },
        "id": "fX4ceNHcfHnU",
        "outputId": "67ec3afe-8c1c-4338-fd42-d039ebd0306b"
      },
      "outputs": [
        {
          "name": "stdout",
          "output_type": "stream",
          "text": [
            "         Match_Id Match_Date  Team_Name_Id  Opponent_Team_Id  Season_Id  \\\n",
            "0          335987  18-Apr-08           2.0               1.0        1.0   \n",
            "1          335987  18-Apr-08           2.0               1.0        1.0   \n",
            "2          335987  18-Apr-08           2.0               1.0        1.0   \n",
            "3          335987  18-Apr-08           2.0               1.0        1.0   \n",
            "4          335987  18-Apr-08           2.0               1.0        1.0   \n",
            "...           ...        ...           ...               ...        ...   \n",
            "1605600    981024  29-May-16           2.0              11.0        9.0   \n",
            "1605601    981024  29-May-16           2.0              11.0        9.0   \n",
            "1605602    981024  29-May-16           2.0              11.0        9.0   \n",
            "1605603    981024  29-May-16           2.0              11.0        9.0   \n",
            "1605604      5483        NaN           NaN               NaN        NaN   \n",
            "\n",
            "                    Venue_Name  Toss_Winner_Id Toss_Decision  IS_Superover  \\\n",
            "0        M Chinnaswamy Stadium             2.0         field           0.0   \n",
            "1        M Chinnaswamy Stadium             2.0         field           0.0   \n",
            "2        M Chinnaswamy Stadium             2.0         field           0.0   \n",
            "3        M Chinnaswamy Stadium             2.0         field           0.0   \n",
            "4        M Chinnaswamy Stadium             2.0         field           0.0   \n",
            "...                        ...             ...           ...           ...   \n",
            "1605600  M Chinnaswamy Stadium            11.0           bat           0.0   \n",
            "1605601  M Chinnaswamy Stadium            11.0           bat           0.0   \n",
            "1605602  M Chinnaswamy Stadium            11.0           bat           0.0   \n",
            "1605603  M Chinnaswamy Stadium            11.0           bat           0.0   \n",
            "1605604                    NaN             NaN           NaN           NaN   \n",
            "\n",
            "         IS_Result  ...  Batsman_Scored Extra_Type  Extra_Runs  \\\n",
            "0              1.0  ...               0    legbyes           1   \n",
            "1              1.0  ...               0    legbyes           1   \n",
            "2              1.0  ...               0    legbyes           1   \n",
            "3              1.0  ...               0    legbyes           1   \n",
            "4              1.0  ...               0    legbyes           1   \n",
            "...            ...  ...             ...        ...         ...   \n",
            "1605600        1.0  ...             NaN        NaN         NaN   \n",
            "1605601        1.0  ...             NaN        NaN         NaN   \n",
            "1605602        1.0  ...             NaN        NaN         NaN   \n",
            "1605603        1.0  ...             NaN        NaN         NaN   \n",
            "1605604        NaN  ...             NaN        NaN         NaN   \n",
            "\n",
            "         Player_dissimal_Id  Dissimal_Type  Fielder_Id  Player_Id Team_Id  \\\n",
            "0                                                             1.0     1.0   \n",
            "1                                                             2.0     1.0   \n",
            "2                                                             3.0     1.0   \n",
            "3                                                             4.0     1.0   \n",
            "4                                                             5.0     1.0   \n",
            "...                     ...            ...         ...        ...     ...   \n",
            "1605600                 NaN            NaN         NaN      429.0    11.0   \n",
            "1605601                 NaN            NaN         NaN      460.0    11.0   \n",
            "1605602                 NaN            NaN         NaN      270.0     2.0   \n",
            "1605603                 NaN            NaN         NaN      382.0     2.0   \n",
            "1605604                 NaN            NaN         NaN        NaN     NaN   \n",
            "\n",
            "        Is_Keeper  Is_Captain  \n",
            "0             0.0         1.0  \n",
            "1             0.0         0.0  \n",
            "2             0.0         0.0  \n",
            "3             0.0         0.0  \n",
            "4             0.0         0.0  \n",
            "...           ...         ...  \n",
            "1605600       0.0         0.0  \n",
            "1605601       0.0         0.0  \n",
            "1605602       0.0         0.0  \n",
            "1605603       0.0         0.0  \n",
            "1605604       NaN         NaN  \n",
            "\n",
            "[1605605 rows x 38 columns]\n"
          ]
        }
      ],
      "source": [
        "print(output2)"
      ]
    },
    {
      "cell_type": "markdown",
      "metadata": {
        "id": "odxZ0Yol_BjY"
      },
      "source": [
        "Now we had to filter the dataset by refining the matches that Dhoni had played"
      ]
    },
    {
      "cell_type": "code",
      "execution_count": null,
      "metadata": {
        "id": "xUMJS76egoNS"
      },
      "outputs": [],
      "source": [
        "mask = output2['Player_Id'] == 20  #Dhoni's Player_Id is 20, So we are refining the data where Player_Id is 20\n",
        "output3=output2[mask]   "
      ]
    },
    {
      "cell_type": "code",
      "execution_count": null,
      "metadata": {
        "colab": {
          "base_uri": "https://localhost:8080/"
        },
        "id": "RgBx4o3Cin4U",
        "outputId": "9b462501-52d8-41ba-9e8c-a53a8ea3291c"
      },
      "outputs": [
        {
          "name": "stdout",
          "output_type": "stream",
          "text": [
            "         Match_Id Match_Date  Team_Name_Id  Opponent_Team_Id  Season_Id  \\\n",
            "4953       335988  19-Apr-08           4.0               3.0        1.0   \n",
            "4975       335988  19-Apr-08           4.0               3.0        1.0   \n",
            "4997       335988  19-Apr-08           4.0               3.0        1.0   \n",
            "5019       335988  19-Apr-08           4.0               3.0        1.0   \n",
            "5041       335988  19-Apr-08           4.0               3.0        1.0   \n",
            "...           ...        ...           ...               ...        ...   \n",
            "1605035    980974   7-May-16           2.0              12.0        9.0   \n",
            "1605156    980984  10-May-16          12.0              11.0        9.0   \n",
            "1605257    980994  14-May-16           1.0              12.0        9.0   \n",
            "1605356    981002  17-May-16          12.0               6.0        9.0   \n",
            "1605441    981010  21-May-16          12.0               4.0        9.0   \n",
            "\n",
            "                                                Venue_Name  Toss_Winner_Id  \\\n",
            "4953            Punjab Cricket Association Stadium, Mohali             3.0   \n",
            "4975            Punjab Cricket Association Stadium, Mohali             3.0   \n",
            "4997            Punjab Cricket Association Stadium, Mohali             3.0   \n",
            "5019            Punjab Cricket Association Stadium, Mohali             3.0   \n",
            "5041            Punjab Cricket Association Stadium, Mohali             3.0   \n",
            "...                                                    ...             ...   \n",
            "1605035                              M Chinnaswamy Stadium             2.0   \n",
            "1605156  Dr. Y.S. Rajasekhara Reddy ACA-VDCA Cricket St...            11.0   \n",
            "1605257                                       Eden Gardens            12.0   \n",
            "1605356  Dr. Y.S. Rajasekhara Reddy ACA-VDCA Cricket St...            12.0   \n",
            "1605441  Dr. Y.S. Rajasekhara Reddy ACA-VDCA Cricket St...             4.0   \n",
            "\n",
            "        Toss_Decision  IS_Superover  IS_Result  ...  Batsman_Scored  \\\n",
            "4953              bat           0.0        1.0  ...               0   \n",
            "4975              bat           0.0        1.0  ...               0   \n",
            "4997              bat           0.0        1.0  ...               1   \n",
            "5019              bat           0.0        1.0  ...               0   \n",
            "5041              bat           0.0        1.0  ...               4   \n",
            "...               ...           ...        ...  ...             ...   \n",
            "1605035         field           0.0        1.0  ...             NaN   \n",
            "1605156           bat           0.0        1.0  ...             NaN   \n",
            "1605257           bat           0.0        1.0  ...             NaN   \n",
            "1605356         field           0.0        1.0  ...             NaN   \n",
            "1605441           bat           0.0        1.0  ...             NaN   \n",
            "\n",
            "        Extra_Type  Extra_Runs  Player_dissimal_Id  Dissimal_Type  Fielder_Id  \\\n",
            "4953                                                                            \n",
            "4975                                                                            \n",
            "4997                                                                            \n",
            "5019                                                                            \n",
            "5041                                                                            \n",
            "...            ...         ...                 ...            ...         ...   \n",
            "1605035        NaN         NaN                 NaN            NaN         NaN   \n",
            "1605156        NaN         NaN                 NaN            NaN         NaN   \n",
            "1605257        NaN         NaN                 NaN            NaN         NaN   \n",
            "1605356        NaN         NaN                 NaN            NaN         NaN   \n",
            "1605441        NaN         NaN                 NaN            NaN         NaN   \n",
            "\n",
            "         Player_Id Team_Id Is_Keeper  Is_Captain  \n",
            "4953          20.0     3.0       1.0         1.0  \n",
            "4975          20.0     3.0       1.0         1.0  \n",
            "4997          20.0     3.0       1.0         1.0  \n",
            "5019          20.0     3.0       1.0         1.0  \n",
            "5041          20.0     3.0       1.0         1.0  \n",
            "...            ...     ...       ...         ...  \n",
            "1605035       20.0    12.0       1.0         1.0  \n",
            "1605156       20.0    12.0       1.0         1.0  \n",
            "1605257       20.0    12.0       1.0         1.0  \n",
            "1605356       20.0    12.0       1.0         1.0  \n",
            "1605441       20.0    12.0       1.0         1.0  \n",
            "\n",
            "[17280 rows x 38 columns]\n"
          ]
        }
      ],
      "source": [
        "print(output3)"
      ]
    },
    {
      "cell_type": "markdown",
      "metadata": {
        "id": "89E-3awIAAh2"
      },
      "source": [
        "Now we filter the dataset based on Team_Id"
      ]
    },
    {
      "cell_type": "code",
      "execution_count": null,
      "metadata": {
        "id": "UYpbQMaBizQZ"
      },
      "outputs": [],
      "source": [
        "mask1=output3['Team_Id']==3 #CSK Team_Id is 3\n",
        "final = output3[mask1]"
      ]
    },
    {
      "cell_type": "code",
      "execution_count": null,
      "metadata": {
        "colab": {
          "base_uri": "https://localhost:8080/"
        },
        "id": "fAenTy6tkSY7",
        "outputId": "2e923807-79d1-4996-bbf2-90e9890a3cb5"
      },
      "outputs": [
        {
          "name": "stdout",
          "output_type": "stream",
          "text": [
            "         Match_Id Match_Date  Team_Name_Id  Opponent_Team_Id  Season_Id  \\\n",
            "4953       335988  19-Apr-08           4.0               3.0        1.0   \n",
            "4975       335988  19-Apr-08           4.0               3.0        1.0   \n",
            "4997       335988  19-Apr-08           4.0               3.0        1.0   \n",
            "5019       335988  19-Apr-08           4.0               3.0        1.0   \n",
            "5041       335988  19-Apr-08           4.0               3.0        1.0   \n",
            "...           ...        ...           ...               ...        ...   \n",
            "1604024    829806  12-May-15           6.0               3.0        8.0   \n",
            "1604121    829814  16-May-15           4.0               3.0        8.0   \n",
            "1604208    829822  19-May-15           3.0               7.0        8.0   \n",
            "1604254    829826  22-May-15           3.0               2.0        8.0   \n",
            "1604272    829828  24-May-15           7.0               3.0        8.0   \n",
            "\n",
            "                                               Venue_Name  Toss_Winner_Id  \\\n",
            "4953           Punjab Cricket Association Stadium, Mohali             3.0   \n",
            "4975           Punjab Cricket Association Stadium, Mohali             3.0   \n",
            "4997           Punjab Cricket Association Stadium, Mohali             3.0   \n",
            "5019           Punjab Cricket Association Stadium, Mohali             3.0   \n",
            "5041           Punjab Cricket Association Stadium, Mohali             3.0   \n",
            "...                                                   ...             ...   \n",
            "1604024  Shaheed Veer Narayan Singh International Stadium             3.0   \n",
            "1604121        Punjab Cricket Association Stadium, Mohali             4.0   \n",
            "1604208                                  Wankhede Stadium             7.0   \n",
            "1604254                JSCA International Stadium Complex             3.0   \n",
            "1604272                                      Eden Gardens             3.0   \n",
            "\n",
            "        Toss_Decision  IS_Superover  IS_Result  ...  Batsman_Scored  \\\n",
            "4953              bat           0.0        1.0  ...               0   \n",
            "4975              bat           0.0        1.0  ...               0   \n",
            "4997              bat           0.0        1.0  ...               1   \n",
            "5019              bat           0.0        1.0  ...               0   \n",
            "5041              bat           0.0        1.0  ...               4   \n",
            "...               ...           ...        ...  ...             ...   \n",
            "1604024           bat           0.0        1.0  ...             NaN   \n",
            "1604121           bat           0.0        1.0  ...             NaN   \n",
            "1604208           bat           0.0        1.0  ...             NaN   \n",
            "1604254         field           0.0        1.0  ...             NaN   \n",
            "1604272         field           0.0        1.0  ...             NaN   \n",
            "\n",
            "        Extra_Type  Extra_Runs  Player_dissimal_Id  Dissimal_Type  Fielder_Id  \\\n",
            "4953                                                                            \n",
            "4975                                                                            \n",
            "4997                                                                            \n",
            "5019                                                                            \n",
            "5041                                                                            \n",
            "...            ...         ...                 ...            ...         ...   \n",
            "1604024        NaN         NaN                 NaN            NaN         NaN   \n",
            "1604121        NaN         NaN                 NaN            NaN         NaN   \n",
            "1604208        NaN         NaN                 NaN            NaN         NaN   \n",
            "1604254        NaN         NaN                 NaN            NaN         NaN   \n",
            "1604272        NaN         NaN                 NaN            NaN         NaN   \n",
            "\n",
            "         Player_Id Team_Id Is_Keeper  Is_Captain  \n",
            "4953          20.0     3.0       1.0         1.0  \n",
            "4975          20.0     3.0       1.0         1.0  \n",
            "4997          20.0     3.0       1.0         1.0  \n",
            "5019          20.0     3.0       1.0         1.0  \n",
            "5041          20.0     3.0       1.0         1.0  \n",
            "...            ...     ...       ...         ...  \n",
            "1604024       20.0     3.0       1.0         1.0  \n",
            "1604121       20.0     3.0       1.0         1.0  \n",
            "1604208       20.0     3.0       1.0         1.0  \n",
            "1604254       20.0     3.0       1.0         1.0  \n",
            "1604272       20.0     3.0       1.0         1.0  \n",
            "\n",
            "[17266 rows x 38 columns]\n"
          ]
        }
      ],
      "source": [
        "print(final)"
      ]
    },
    {
      "cell_type": "markdown",
      "metadata": {
        "id": "9WTrPGu2AW2-"
      },
      "source": [
        "I have classified the data on the basis of whether Dhoni is in Striker End or Non-Striker end with help of Striker_Id and Non_Striker_Id"
      ]
    },
    {
      "cell_type": "code",
      "execution_count": null,
      "metadata": {
        "id": "_C7Opm7Qkj5a"
      },
      "outputs": [],
      "source": [
        "mask2=final['Striker_Id'] == 20\n",
        "striker=final[mask2]"
      ]
    },
    {
      "cell_type": "code",
      "execution_count": null,
      "metadata": {
        "id": "JznQuvSluR-J"
      },
      "outputs": [],
      "source": [
        "mask3=final['Non_Striker_Id']==20\n",
        "nonstriker=final[mask3]"
      ]
    },
    {
      "cell_type": "code",
      "execution_count": null,
      "metadata": {
        "colab": {
          "base_uri": "https://localhost:8080/"
        },
        "id": "ma_TfVEGuh0b",
        "outputId": "6a275fef-f2ed-40ed-d72c-fe895b69b9ad"
      },
      "outputs": [
        {
          "name": "stdout",
          "output_type": "stream",
          "text": [
            "The attributes with Dhoni on Striker End \n",
            "          Match_Id Match_Date  Team_Name_Id  Opponent_Team_Id  Season_Id  \\\n",
            "5833       335988  19-Apr-08           4.0               3.0        1.0   \n",
            "5899       335988  19-Apr-08           4.0               3.0        1.0   \n",
            "5921       335988  19-Apr-08           4.0               3.0        1.0   \n",
            "37822      335994  23-Apr-08           3.0               7.0        1.0   \n",
            "37844      335994  23-Apr-08           3.0               7.0        1.0   \n",
            "...           ...        ...           ...               ...        ...   \n",
            "1573034    548366  10-May-12           5.0               3.0        5.0   \n",
            "1573078    548366  10-May-12           5.0               3.0        5.0   \n",
            "1573144    548366  10-May-12           5.0               3.0        5.0   \n",
            "1573166    548366  10-May-12           5.0               3.0        5.0   \n",
            "1573232    548366  10-May-12           5.0               3.0        5.0   \n",
            "\n",
            "                                         Venue_Name  Toss_Winner_Id  \\\n",
            "5833     Punjab Cricket Association Stadium, Mohali             3.0   \n",
            "5899     Punjab Cricket Association Stadium, Mohali             3.0   \n",
            "5921     Punjab Cricket Association Stadium, Mohali             3.0   \n",
            "37822               MA Chidambaram Stadium, Chepauk             7.0   \n",
            "37844               MA Chidambaram Stadium, Chepauk             7.0   \n",
            "...                                             ...             ...   \n",
            "1573034                      Sawai Mansingh Stadium             3.0   \n",
            "1573078                      Sawai Mansingh Stadium             3.0   \n",
            "1573144                      Sawai Mansingh Stadium             3.0   \n",
            "1573166                      Sawai Mansingh Stadium             3.0   \n",
            "1573232                      Sawai Mansingh Stadium             3.0   \n",
            "\n",
            "        Toss_Decision  IS_Superover  IS_Result  ...  Batsman_Scored  \\\n",
            "5833              bat           0.0        1.0  ...               1   \n",
            "5899              bat           0.0        1.0  ...               1   \n",
            "5921              bat           0.0        1.0  ...               0   \n",
            "37822           field           0.0        1.0  ...               0   \n",
            "37844           field           0.0        1.0  ...               4   \n",
            "...               ...           ...        ...  ...             ...   \n",
            "1573034         field           0.0        1.0  ...             1.0   \n",
            "1573078         field           0.0        1.0  ...             1.0   \n",
            "1573144         field           0.0        1.0  ...             0.0   \n",
            "1573166         field           0.0        1.0  ...             1.0   \n",
            "1573232         field           0.0        1.0  ...             0.0   \n",
            "\n",
            "        Extra_Type  Extra_Runs  Player_dissimal_Id  Dissimal_Type  Fielder_Id  \\\n",
            "5833                                                                            \n",
            "5899                                                                            \n",
            "5921                                            20            lbw               \n",
            "37822        wides           1                                                  \n",
            "37844                                                                           \n",
            "...            ...         ...                 ...            ...         ...   \n",
            "1573034                                                                         \n",
            "1573078                                                                         \n",
            "1573144                                                                         \n",
            "1573166                                                                         \n",
            "1573232                                                                         \n",
            "\n",
            "         Player_Id Team_Id Is_Keeper  Is_Captain  \n",
            "5833          20.0     3.0       1.0         1.0  \n",
            "5899          20.0     3.0       1.0         1.0  \n",
            "5921          20.0     3.0       1.0         1.0  \n",
            "37822         20.0     3.0       1.0         1.0  \n",
            "37844         20.0     3.0       1.0         1.0  \n",
            "...            ...     ...       ...         ...  \n",
            "1573034       20.0     3.0       1.0         1.0  \n",
            "1573078       20.0     3.0       1.0         1.0  \n",
            "1573144       20.0     3.0       1.0         1.0  \n",
            "1573166       20.0     3.0       1.0         1.0  \n",
            "1573232       20.0     3.0       1.0         1.0  \n",
            "\n",
            "[1257 rows x 38 columns]\n"
          ]
        }
      ],
      "source": [
        "print(\"The attributes with Dhoni on Striker End \\n\",striker)"
      ]
    },
    {
      "cell_type": "code",
      "execution_count": null,
      "metadata": {
        "colab": {
          "base_uri": "https://localhost:8080/"
        },
        "id": "vSeVWBqFvUrw",
        "outputId": "80163734-cf29-49dc-bfbb-5e926a0977aa"
      },
      "outputs": [
        {
          "name": "stdout",
          "output_type": "stream",
          "text": [
            "The Non_Striker Attributes \n",
            "          Match_Id Match_Date  Team_Name_Id  Opponent_Team_Id  Season_Id  \\\n",
            "5855       335988  19-Apr-08           4.0               3.0        1.0   \n",
            "5877       335988  19-Apr-08           4.0               3.0        1.0   \n",
            "37932      335994  23-Apr-08           3.0               7.0        1.0   \n",
            "37954      335994  23-Apr-08           3.0               7.0        1.0   \n",
            "37976      335994  23-Apr-08           3.0               7.0        1.0   \n",
            "...           ...        ...           ...               ...        ...   \n",
            "1573056    548366  10-May-12           5.0               3.0        5.0   \n",
            "1573100    548366  10-May-12           5.0               3.0        5.0   \n",
            "1573122    548366  10-May-12           5.0               3.0        5.0   \n",
            "1573188    548366  10-May-12           5.0               3.0        5.0   \n",
            "1573210    548366  10-May-12           5.0               3.0        5.0   \n",
            "\n",
            "                                         Venue_Name  Toss_Winner_Id  \\\n",
            "5855     Punjab Cricket Association Stadium, Mohali             3.0   \n",
            "5877     Punjab Cricket Association Stadium, Mohali             3.0   \n",
            "37932               MA Chidambaram Stadium, Chepauk             7.0   \n",
            "37954               MA Chidambaram Stadium, Chepauk             7.0   \n",
            "37976               MA Chidambaram Stadium, Chepauk             7.0   \n",
            "...                                             ...             ...   \n",
            "1573056                      Sawai Mansingh Stadium             3.0   \n",
            "1573100                      Sawai Mansingh Stadium             3.0   \n",
            "1573122                      Sawai Mansingh Stadium             3.0   \n",
            "1573188                      Sawai Mansingh Stadium             3.0   \n",
            "1573210                      Sawai Mansingh Stadium             3.0   \n",
            "\n",
            "        Toss_Decision  IS_Superover  IS_Result  ...  Batsman_Scored  \\\n",
            "5855              bat           0.0        1.0  ...               2   \n",
            "5877              bat           0.0        1.0  ...               1   \n",
            "37932           field           0.0        1.0  ...               4   \n",
            "37954           field           0.0        1.0  ...               1   \n",
            "37976           field           0.0        1.0  ...               4   \n",
            "...               ...           ...        ...  ...             ...   \n",
            "1573056         field           0.0        1.0  ...             1.0   \n",
            "1573100         field           0.0        1.0  ...             1.0   \n",
            "1573122         field           0.0        1.0  ...             1.0   \n",
            "1573188         field           0.0        1.0  ...             0.0   \n",
            "1573210         field           0.0        1.0  ...             1.0   \n",
            "\n",
            "        Extra_Type  Extra_Runs  Player_dissimal_Id  Dissimal_Type  Fielder_Id  \\\n",
            "5855                                                                            \n",
            "5877                                                                            \n",
            "37932                                                                           \n",
            "37954                                                                           \n",
            "37976                                                                           \n",
            "...            ...         ...                 ...            ...         ...   \n",
            "1573056                                                                         \n",
            "1573100                                                                         \n",
            "1573122                                                                         \n",
            "1573188                                                                         \n",
            "1573210                                                                         \n",
            "\n",
            "         Player_Id Team_Id Is_Keeper  Is_Captain  \n",
            "5855          20.0     3.0       1.0         1.0  \n",
            "5877          20.0     3.0       1.0         1.0  \n",
            "37932         20.0     3.0       1.0         1.0  \n",
            "37954         20.0     3.0       1.0         1.0  \n",
            "37976         20.0     3.0       1.0         1.0  \n",
            "...            ...     ...       ...         ...  \n",
            "1573056       20.0     3.0       1.0         1.0  \n",
            "1573100       20.0     3.0       1.0         1.0  \n",
            "1573122       20.0     3.0       1.0         1.0  \n",
            "1573188       20.0     3.0       1.0         1.0  \n",
            "1573210       20.0     3.0       1.0         1.0  \n",
            "\n",
            "[1207 rows x 38 columns]\n"
          ]
        }
      ],
      "source": [
        "print(\"The Non_Striker Attributes \\n\",nonstriker)"
      ]
    },
    {
      "cell_type": "markdown",
      "metadata": {
        "id": "rB6KnAedBLwv"
      },
      "source": [
        "Dropping all the Non-essential data on both Striker and Non-Striker Dataset"
      ]
    },
    {
      "cell_type": "code",
      "execution_count": null,
      "metadata": {
        "id": "4ETT_kURvmHU"
      },
      "outputs": [],
      "source": [
        "striker=striker.drop(['Innings_Id','Ball_Id','Team_Bowling_Id','Striker_Batting_Position','Bowler_Id','Batsman_Scored','Match_Date','Opponent_Team_Id','Season_Id','Fielder_Id','Venue_Name','Toss_Winner_Id',\"Toss_Decision\",'IS_Superover','IS_Result','Is_DuckWorthLewis','Win_Type','Won_By','Man_Of_The_Match_Id','First_Umpire_Id','Second_Umpire_Id','City_Name','Host_Country','Is_Keeper','Is_Captain','Extra_Type','Extra_Runs','Player_dissimal_Id','Dissimal_Type','Team_Name_Id'],axis=1)"
      ]
    },
    {
      "cell_type": "code",
      "execution_count": null,
      "metadata": {
        "colab": {
          "base_uri": "https://localhost:8080/"
        },
        "id": "GA0OcnkyfR8C",
        "outputId": "021b0bbb-2912-444a-b090-d97f68878cdb"
      },
      "outputs": [
        {
          "name": "stdout",
          "output_type": "stream",
          "text": [
            "         Match_Id  Match_Winner_Id  Over_Id  Team_Batting_Id  Striker_Id  \\\n",
            "5833       335988              3.0      7.0              3.0        20.0   \n",
            "5899       335988              3.0      7.0              3.0        20.0   \n",
            "5921       335988              3.0      8.0              3.0        20.0   \n",
            "37822      335994              3.0     16.0              3.0        20.0   \n",
            "37844      335994              3.0     16.0              3.0        20.0   \n",
            "...           ...              ...      ...              ...         ...   \n",
            "1573034    548366              3.0     15.0              3.0        20.0   \n",
            "1573078    548366              3.0     15.0              3.0        20.0   \n",
            "1573144    548366              3.0     16.0              3.0        20.0   \n",
            "1573166    548366              3.0     16.0              3.0        20.0   \n",
            "1573232    548366              3.0     16.0              3.0        20.0   \n",
            "\n",
            "         Non_Striker_Id  Player_Id  Team_Id  \n",
            "5833               19.0       20.0      3.0  \n",
            "5899               19.0       20.0      3.0  \n",
            "5921               19.0       20.0      3.0  \n",
            "37822              18.0       20.0      3.0  \n",
            "37844              18.0       20.0      3.0  \n",
            "...                 ...        ...      ...  \n",
            "1573034            35.0       20.0      3.0  \n",
            "1573078            35.0       20.0      3.0  \n",
            "1573144            35.0       20.0      3.0  \n",
            "1573166            35.0       20.0      3.0  \n",
            "1573232            35.0       20.0      3.0  \n",
            "\n",
            "[1257 rows x 8 columns]\n"
          ]
        }
      ],
      "source": [
        "print(striker)"
      ]
    },
    {
      "cell_type": "code",
      "execution_count": null,
      "metadata": {
        "colab": {
          "base_uri": "https://localhost:8080/"
        },
        "id": "NSd_PhjugTrp",
        "outputId": "adb38f31-932c-4a5f-b7aa-634c6818d541"
      },
      "outputs": [
        {
          "name": "stdout",
          "output_type": "stream",
          "text": [
            "         Match_Id  Match_Winner_Id  Over_Id  Team_Batting_Id  Striker_Id  \\\n",
            "38394      335994              3.0     20.0              3.0        20.0   \n",
            "38416      335994              3.0     20.0              3.0        20.0   \n",
            "38482      335994              3.0     20.0              3.0        20.0   \n",
            "74936      336001              3.0     20.0              3.0        20.0   \n",
            "74958      336001              3.0     20.0              3.0        20.0   \n",
            "...           ...              ...      ...              ...         ...   \n",
            "1429304    548337              3.0     20.0              3.0        20.0   \n",
            "1429326    548337              3.0     20.0              3.0        20.0   \n",
            "1429370    548337              3.0     20.0              3.0        20.0   \n",
            "1496356    548352              1.0     20.0              3.0        20.0   \n",
            "1522843    548357              3.0     20.0              3.0        20.0   \n",
            "\n",
            "         Non_Striker_Id  Player_Id  Team_Id  \n",
            "38394              22.0       20.0      3.0  \n",
            "38416              22.0       20.0      3.0  \n",
            "38482              22.0       20.0      3.0  \n",
            "74936              19.0       20.0      3.0  \n",
            "74958              19.0       20.0      3.0  \n",
            "...                 ...        ...      ...  \n",
            "1429304            71.0       20.0      3.0  \n",
            "1429326            71.0       20.0      3.0  \n",
            "1429370            71.0       20.0      3.0  \n",
            "1496356           109.0       20.0      3.0  \n",
            "1522843            71.0       20.0      3.0  \n",
            "\n",
            "[65 rows x 8 columns]\n"
          ]
        }
      ],
      "source": [
        "mask=striker['Over_Id']==20\n",
        "striker=striker[mask]\n",
        "print(striker)"
      ]
    },
    {
      "cell_type": "code",
      "execution_count": null,
      "metadata": {
        "colab": {
          "base_uri": "https://localhost:8080/"
        },
        "id": "GmpUZVLVh44q",
        "outputId": "ed91e1a5-fa47-40d6-8e09-1a8d0bdae1a4"
      },
      "outputs": [
        {
          "name": "stdout",
          "output_type": "stream",
          "text": [
            "         Match_Id Match_Date  Team_Name_Id  Opponent_Team_Id  Season_Id  \\\n",
            "38438      335994  23-Apr-08           3.0               7.0        1.0   \n",
            "38460      335994  23-Apr-08           3.0               7.0        1.0   \n",
            "162276     336018  10-May-08           3.0               4.0        1.0   \n",
            "162342     336018  10-May-08           3.0               4.0        1.0   \n",
            "162386     336018  10-May-08           3.0               4.0        1.0   \n",
            "188721     336023  14-May-08           7.0               3.0        1.0   \n",
            "188743     336023  14-May-08           7.0               3.0        1.0   \n",
            "188765     336023  14-May-08           7.0               3.0        1.0   \n",
            "188787     336023  14-May-08           7.0               3.0        1.0   \n",
            "188809     336023  14-May-08           7.0               3.0        1.0   \n",
            "188875     336023  14-May-08           7.0               3.0        1.0   \n",
            "188897     336023  14-May-08           7.0               3.0        1.0   \n",
            "293814     336045   1-Jun-08           3.0               5.0        1.0   \n",
            "293902     336045   1-Jun-08           3.0               5.0        1.0   \n",
            "293924     336045   1-Jun-08           3.0               5.0        1.0   \n",
            "301941     392186  18-Apr-09           3.0               7.0        2.0   \n",
            "301985     392186  18-Apr-09           3.0               7.0        2.0   \n",
            "395741     392207  30-Apr-09           3.0               5.0        2.0   \n",
            "395785     392207  30-Apr-09           3.0               5.0        2.0   \n",
            "395807     392207  30-Apr-09           3.0               5.0        2.0   \n",
            "395851     392207  30-Apr-09           3.0               5.0        2.0   \n",
            "433622     392214   4-May-09           3.0               8.0        2.0   \n",
            "433644     392214   4-May-09           3.0               8.0        2.0   \n",
            "433754     392214   4-May-09           3.0               8.0        2.0   \n",
            "531442     392232  16-May-09           3.0               7.0        2.0   \n",
            "550641     392236  18-May-09           3.0               1.0        2.0   \n",
            "550663     392236  18-May-09           3.0               1.0        2.0   \n",
            "550685     392236  18-May-09           3.0               1.0        2.0   \n",
            "550707     392236  18-May-09           3.0               1.0        2.0   \n",
            "550729     392236  18-May-09           3.0               1.0        2.0   \n",
            "636662     419118  16-Mar-10           1.0               3.0        3.0   \n",
            "636684     419118  16-Mar-10           1.0               3.0        3.0   \n",
            "636772     419118  16-Mar-10           1.0               3.0        3.0   \n",
            "764526     419142   3-Apr-10           3.0               5.0        3.0   \n",
            "764548     419142   3-Apr-10           3.0               5.0        3.0   \n",
            "958720     501211  13-Apr-11           4.0               3.0        4.0   \n",
            "958764     501211  13-Apr-11           4.0               3.0        4.0   \n",
            "1110959    501241   1-May-11           3.0               8.0        4.0   \n",
            "1110981    501241   1-May-11           3.0               8.0        4.0   \n",
            "1178389    501254   9-May-11           5.0               3.0        4.0   \n",
            "1178455    501254   9-May-11           5.0               3.0        4.0   \n",
            "1178521    501254   9-May-11           5.0               3.0        4.0   \n",
            "1198476    501258  12-May-11           3.0               6.0        4.0   \n",
            "1415703    548335  19-Apr-12           3.0              10.0        5.0   \n",
            "1415725    548335  19-Apr-12           3.0              10.0        5.0   \n",
            "1415813    548335  19-Apr-12           3.0              10.0        5.0   \n",
            "1429282    548337  21-Apr-12           3.0               5.0        5.0   \n",
            "1429348    548337  21-Apr-12           3.0               5.0        5.0   \n",
            "1496334    548352  30-Apr-12           3.0               1.0        5.0   \n",
            "1496378    548352  30-Apr-12           3.0               1.0        5.0   \n",
            "1496400    548352  30-Apr-12           3.0               1.0        5.0   \n",
            "1496422    548352  30-Apr-12           3.0               1.0        5.0   \n",
            "1496444    548352  30-Apr-12           3.0               1.0        5.0   \n",
            "\n",
            "                                         Venue_Name  Toss_Winner_Id  \\\n",
            "38438               MA Chidambaram Stadium, Chepauk             7.0   \n",
            "38460               MA Chidambaram Stadium, Chepauk             7.0   \n",
            "162276              MA Chidambaram Stadium, Chepauk             4.0   \n",
            "162342              MA Chidambaram Stadium, Chepauk             4.0   \n",
            "162386              MA Chidambaram Stadium, Chepauk             4.0   \n",
            "188721                             Wankhede Stadium             7.0   \n",
            "188743                             Wankhede Stadium             7.0   \n",
            "188765                             Wankhede Stadium             7.0   \n",
            "188787                             Wankhede Stadium             7.0   \n",
            "188809                             Wankhede Stadium             7.0   \n",
            "188875                             Wankhede Stadium             7.0   \n",
            "188897                             Wankhede Stadium             7.0   \n",
            "293814                   Dr DY Patil Sports Academy             5.0   \n",
            "293902                   Dr DY Patil Sports Academy             5.0   \n",
            "293924                   Dr DY Patil Sports Academy             5.0   \n",
            "301941                                     Newlands             3.0   \n",
            "301985                                     Newlands             3.0   \n",
            "395741                              SuperSport Park             5.0   \n",
            "395785                              SuperSport Park             5.0   \n",
            "395807                              SuperSport Park             5.0   \n",
            "395851                              SuperSport Park             5.0   \n",
            "433622                                 Buffalo Park             3.0   \n",
            "433644                                 Buffalo Park             3.0   \n",
            "433754                                 Buffalo Park             3.0   \n",
            "531442                             St George's Park             7.0   \n",
            "550641                              SuperSport Park             3.0   \n",
            "550663                              SuperSport Park             3.0   \n",
            "550685                              SuperSport Park             3.0   \n",
            "550707                              SuperSport Park             3.0   \n",
            "550729                              SuperSport Park             3.0   \n",
            "636662                                 Eden Gardens             3.0   \n",
            "636684                                 Eden Gardens             3.0   \n",
            "636772                                 Eden Gardens             3.0   \n",
            "764526              MA Chidambaram Stadium, Chepauk             3.0   \n",
            "764548              MA Chidambaram Stadium, Chepauk             3.0   \n",
            "958720   Punjab Cricket Association Stadium, Mohali             4.0   \n",
            "958764   Punjab Cricket Association Stadium, Mohali             4.0   \n",
            "1110959             MA Chidambaram Stadium, Chepauk             3.0   \n",
            "1110981             MA Chidambaram Stadium, Chepauk             3.0   \n",
            "1178389                      Sawai Mansingh Stadium             5.0   \n",
            "1178455                      Sawai Mansingh Stadium             5.0   \n",
            "1178521                      Sawai Mansingh Stadium             5.0   \n",
            "1198476             MA Chidambaram Stadium, Chepauk             3.0   \n",
            "1415703             MA Chidambaram Stadium, Chepauk            10.0   \n",
            "1415725             MA Chidambaram Stadium, Chepauk            10.0   \n",
            "1415813             MA Chidambaram Stadium, Chepauk            10.0   \n",
            "1429282             MA Chidambaram Stadium, Chepauk             5.0   \n",
            "1429348             MA Chidambaram Stadium, Chepauk             5.0   \n",
            "1496334             MA Chidambaram Stadium, Chepauk             3.0   \n",
            "1496378             MA Chidambaram Stadium, Chepauk             3.0   \n",
            "1496400             MA Chidambaram Stadium, Chepauk             3.0   \n",
            "1496422             MA Chidambaram Stadium, Chepauk             3.0   \n",
            "1496444             MA Chidambaram Stadium, Chepauk             3.0   \n",
            "\n",
            "        Toss_Decision  IS_Superover  IS_Result  ...       City_Name  \\\n",
            "38438           field           0.0        1.0  ...         Chennai   \n",
            "38460           field           0.0        1.0  ...         Chennai   \n",
            "162276          field           0.0        1.0  ...         Chennai   \n",
            "162342          field           0.0        1.0  ...         Chennai   \n",
            "162386          field           0.0        1.0  ...         Chennai   \n",
            "188721          field           0.0        1.0  ...          Mumbai   \n",
            "188743          field           0.0        1.0  ...          Mumbai   \n",
            "188765          field           0.0        1.0  ...          Mumbai   \n",
            "188787          field           0.0        1.0  ...          Mumbai   \n",
            "188809          field           0.0        1.0  ...          Mumbai   \n",
            "188875          field           0.0        1.0  ...          Mumbai   \n",
            "188897          field           0.0        1.0  ...          Mumbai   \n",
            "293814          field           0.0        1.0  ...          Mumbai   \n",
            "293902          field           0.0        1.0  ...          Mumbai   \n",
            "293924          field           0.0        1.0  ...          Mumbai   \n",
            "301941          field           0.0        1.0  ...       Cape Town   \n",
            "301985          field           0.0        1.0  ...       Cape Town   \n",
            "395741          field           0.0        1.0  ...       Centurion   \n",
            "395785          field           0.0        1.0  ...       Centurion   \n",
            "395807          field           0.0        1.0  ...       Centurion   \n",
            "395851          field           0.0        1.0  ...       Centurion   \n",
            "433622            bat           0.0        1.0  ...     East London   \n",
            "433644            bat           0.0        1.0  ...     East London   \n",
            "433754            bat           0.0        1.0  ...     East London   \n",
            "531442            bat           0.0        1.0  ...  Port Elizabeth   \n",
            "550641            bat           0.0        1.0  ...       Centurion   \n",
            "550663            bat           0.0        1.0  ...       Centurion   \n",
            "550685            bat           0.0        1.0  ...       Centurion   \n",
            "550707            bat           0.0        1.0  ...       Centurion   \n",
            "550729            bat           0.0        1.0  ...       Centurion   \n",
            "636662            bat           0.0        1.0  ...         Kolkata   \n",
            "636684            bat           0.0        1.0  ...         Kolkata   \n",
            "636772            bat           0.0        1.0  ...         Kolkata   \n",
            "764526            bat           0.0        1.0  ...         Chennai   \n",
            "764548            bat           0.0        1.0  ...         Chennai   \n",
            "958720          field           0.0        1.0  ...      Chandigarh   \n",
            "958764          field           0.0        1.0  ...      Chandigarh   \n",
            "1110959           bat           0.0        1.0  ...         Chennai   \n",
            "1110981           bat           0.0        1.0  ...         Chennai   \n",
            "1178389         field           0.0        1.0  ...          Jaipur   \n",
            "1178455         field           0.0        1.0  ...          Jaipur   \n",
            "1178521         field           0.0        1.0  ...          Jaipur   \n",
            "1198476           bat           0.0        1.0  ...         Chennai   \n",
            "1415703         field           0.0        1.0  ...         Chennai   \n",
            "1415725         field           0.0        1.0  ...         Chennai   \n",
            "1415813         field           0.0        1.0  ...         Chennai   \n",
            "1429282           bat           0.0        1.0  ...         Chennai   \n",
            "1429348           bat           0.0        1.0  ...         Chennai   \n",
            "1496334           bat           0.0        1.0  ...         Chennai   \n",
            "1496378           bat           0.0        1.0  ...         Chennai   \n",
            "1496400           bat           0.0        1.0  ...         Chennai   \n",
            "1496422           bat           0.0        1.0  ...         Chennai   \n",
            "1496444           bat           0.0        1.0  ...         Chennai   \n",
            "\n",
            "         Host_Country  Over_Id  Team_Batting_Id  Striker_Id  Non_Striker_Id  \\\n",
            "38438           India     20.0              3.0        22.0            20.0   \n",
            "38460           India     20.0              3.0        22.0            20.0   \n",
            "162276          India     20.0              3.0       109.0            20.0   \n",
            "162342          India     20.0              3.0       109.0            20.0   \n",
            "162386          India     20.0              3.0       109.0            20.0   \n",
            "188721          India     20.0              3.0       109.0            20.0   \n",
            "188743          India     20.0              3.0       109.0            20.0   \n",
            "188765          India     20.0              3.0       109.0            20.0   \n",
            "188787          India     20.0              3.0       109.0            20.0   \n",
            "188809          India     20.0              3.0       109.0            20.0   \n",
            "188875          India     20.0              3.0       109.0            20.0   \n",
            "188897          India     20.0              3.0       109.0            20.0   \n",
            "293814          India     20.0              3.0       127.0            20.0   \n",
            "293902          India     20.0              3.0        23.0            20.0   \n",
            "293924          India     20.0              3.0        23.0            20.0   \n",
            "301941   South Africa     20.0              3.0       119.0            20.0   \n",
            "301985   South Africa     20.0              3.0       119.0            20.0   \n",
            "395741   South Africa     20.0              3.0        21.0            20.0   \n",
            "395785   South Africa     20.0              3.0        21.0            20.0   \n",
            "395807   South Africa     20.0              3.0        21.0            20.0   \n",
            "395851   South Africa     20.0              3.0       109.0            20.0   \n",
            "433622   South Africa     20.0              3.0       109.0            20.0   \n",
            "433644   South Africa     20.0              3.0       109.0            20.0   \n",
            "433754   South Africa     20.0              3.0       109.0            20.0   \n",
            "531442   South Africa     20.0              3.0        18.0            20.0   \n",
            "550641   South Africa     20.0              3.0       109.0            20.0   \n",
            "550663   South Africa     20.0              3.0       109.0            20.0   \n",
            "550685   South Africa     20.0              3.0       109.0            20.0   \n",
            "550707   South Africa     20.0              3.0       109.0            20.0   \n",
            "550729   South Africa     20.0              3.0       109.0            20.0   \n",
            "636662          India     20.0              3.0        23.0            20.0   \n",
            "636684          India     20.0              3.0        23.0            20.0   \n",
            "636772          India     20.0              3.0        23.0            20.0   \n",
            "764526          India     20.0              3.0       185.0            20.0   \n",
            "764548          India     20.0              3.0       185.0            20.0   \n",
            "958720          India     20.0              3.0        23.0            20.0   \n",
            "958764          India     20.0              3.0        23.0            20.0   \n",
            "1110959         India     20.0              3.0        23.0            20.0   \n",
            "1110981         India     20.0              3.0        23.0            20.0   \n",
            "1178389         India     20.0              3.0       109.0            20.0   \n",
            "1178455         India     20.0              3.0       109.0            20.0   \n",
            "1178521         India     20.0              3.0       109.0            20.0   \n",
            "1198476         India     20.0              3.0        23.0            20.0   \n",
            "1415703         India     20.0              3.0        35.0            20.0   \n",
            "1415725         India     20.0              3.0        35.0            20.0   \n",
            "1415813         India     20.0              3.0        35.0            20.0   \n",
            "1429282         India     20.0              3.0        71.0            20.0   \n",
            "1429348         India     20.0              3.0        71.0            20.0   \n",
            "1496334         India     20.0              3.0       109.0            20.0   \n",
            "1496378         India     20.0              3.0       109.0            20.0   \n",
            "1496400         India     20.0              3.0       109.0            20.0   \n",
            "1496422         India     20.0              3.0       109.0            20.0   \n",
            "1496444         India     20.0              3.0       109.0            20.0   \n",
            "\n",
            "         Player_Id Team_Id Is_Keeper  Is_Captain  \n",
            "38438         20.0     3.0       1.0         1.0  \n",
            "38460         20.0     3.0       1.0         1.0  \n",
            "162276        20.0     3.0       1.0         1.0  \n",
            "162342        20.0     3.0       1.0         1.0  \n",
            "162386        20.0     3.0       1.0         1.0  \n",
            "188721        20.0     3.0       1.0         1.0  \n",
            "188743        20.0     3.0       1.0         1.0  \n",
            "188765        20.0     3.0       1.0         1.0  \n",
            "188787        20.0     3.0       1.0         1.0  \n",
            "188809        20.0     3.0       1.0         1.0  \n",
            "188875        20.0     3.0       1.0         1.0  \n",
            "188897        20.0     3.0       1.0         1.0  \n",
            "293814        20.0     3.0       0.0         1.0  \n",
            "293902        20.0     3.0       0.0         1.0  \n",
            "293924        20.0     3.0       0.0         1.0  \n",
            "301941        20.0     3.0       0.0         1.0  \n",
            "301985        20.0     3.0       0.0         1.0  \n",
            "395741        20.0     3.0       1.0         1.0  \n",
            "395785        20.0     3.0       1.0         1.0  \n",
            "395807        20.0     3.0       1.0         1.0  \n",
            "395851        20.0     3.0       1.0         1.0  \n",
            "433622        20.0     3.0       1.0         1.0  \n",
            "433644        20.0     3.0       1.0         1.0  \n",
            "433754        20.0     3.0       1.0         1.0  \n",
            "531442        20.0     3.0       1.0         1.0  \n",
            "550641        20.0     3.0       1.0         1.0  \n",
            "550663        20.0     3.0       1.0         1.0  \n",
            "550685        20.0     3.0       1.0         1.0  \n",
            "550707        20.0     3.0       1.0         1.0  \n",
            "550729        20.0     3.0       1.0         1.0  \n",
            "636662        20.0     3.0       1.0         1.0  \n",
            "636684        20.0     3.0       1.0         1.0  \n",
            "636772        20.0     3.0       1.0         1.0  \n",
            "764526        20.0     3.0       1.0         1.0  \n",
            "764548        20.0     3.0       1.0         1.0  \n",
            "958720        20.0     3.0       1.0         1.0  \n",
            "958764        20.0     3.0       1.0         1.0  \n",
            "1110959       20.0     3.0       1.0         1.0  \n",
            "1110981       20.0     3.0       1.0         1.0  \n",
            "1178389       20.0     3.0       1.0         1.0  \n",
            "1178455       20.0     3.0       1.0         1.0  \n",
            "1178521       20.0     3.0       1.0         1.0  \n",
            "1198476       20.0     3.0       1.0         1.0  \n",
            "1415703       20.0     3.0       1.0         1.0  \n",
            "1415725       20.0     3.0       1.0         1.0  \n",
            "1415813       20.0     3.0       1.0         1.0  \n",
            "1429282       20.0     3.0       1.0         1.0  \n",
            "1429348       20.0     3.0       1.0         1.0  \n",
            "1496334       20.0     3.0       1.0         1.0  \n",
            "1496378       20.0     3.0       1.0         1.0  \n",
            "1496400       20.0     3.0       1.0         1.0  \n",
            "1496422       20.0     3.0       1.0         1.0  \n",
            "1496444       20.0     3.0       1.0         1.0  \n",
            "\n",
            "[53 rows x 27 columns]\n"
          ]
        }
      ],
      "source": [
        "nonstriker=nonstriker.drop(['Innings_Id','Ball_Id','Team_Bowling_Id','Striker_Batting_Position','Bowler_Id','Batsman_Scored','Extra_Type','Extra_Runs','Player_dissimal_Id','Dissimal_Type','Fielder_Id'],axis=1)\n",
        "mask=nonstriker['Over_Id']==20\n",
        "nonstriker=nonstriker[mask]\n",
        "print(nonstriker)"
      ]
    },
    {
      "cell_type": "code",
      "execution_count": null,
      "metadata": {
        "id": "9aqv_SqRkoY_"
      },
      "outputs": [],
      "source": [
        "nonstriker=nonstriker.drop(['Match_Date','Team_Name_Id','Opponent_Team_Id','Season_Id','Venue_Name','Toss_Winner_Id','Toss_Decision','IS_Superover','IS_Result','Is_DuckWorthLewis','Win_Type','Won_By','Man_Of_The_Match_Id','First_Umpire_Id','Second_Umpire_Id','City_Name','Host_Country'],axis=1)"
      ]
    },
    {
      "cell_type": "code",
      "execution_count": null,
      "metadata": {
        "colab": {
          "base_uri": "https://localhost:8080/"
        },
        "id": "cuHxdbyDrRlj",
        "outputId": "b32b338c-6875-40f0-9562-da9d44c58b0e"
      },
      "outputs": [
        {
          "name": "stdout",
          "output_type": "stream",
          "text": [
            "         Match_Id  Match_Winner_Id  Over_Id  Team_Batting_Id  Striker_Id  \\\n",
            "38438      335994              3.0     20.0              3.0        22.0   \n",
            "38460      335994              3.0     20.0              3.0        22.0   \n",
            "162276     336018              3.0     20.0              3.0       109.0   \n",
            "162342     336018              3.0     20.0              3.0       109.0   \n",
            "162386     336018              3.0     20.0              3.0       109.0   \n",
            "188721     336023              7.0     20.0              3.0       109.0   \n",
            "188743     336023              7.0     20.0              3.0       109.0   \n",
            "188765     336023              7.0     20.0              3.0       109.0   \n",
            "188787     336023              7.0     20.0              3.0       109.0   \n",
            "188809     336023              7.0     20.0              3.0       109.0   \n",
            "188875     336023              7.0     20.0              3.0       109.0   \n",
            "188897     336023              7.0     20.0              3.0       109.0   \n",
            "293814     336045              5.0     20.0              3.0       127.0   \n",
            "293902     336045              5.0     20.0              3.0        23.0   \n",
            "293924     336045              5.0     20.0              3.0        23.0   \n",
            "301941     392186              7.0     20.0              3.0       119.0   \n",
            "301985     392186              7.0     20.0              3.0       119.0   \n",
            "395741     392207              3.0     20.0              3.0        21.0   \n",
            "395785     392207              3.0     20.0              3.0        21.0   \n",
            "395807     392207              3.0     20.0              3.0        21.0   \n",
            "395851     392207              3.0     20.0              3.0       109.0   \n",
            "433622     392214              3.0     20.0              3.0       109.0   \n",
            "433644     392214              3.0     20.0              3.0       109.0   \n",
            "433754     392214              3.0     20.0              3.0       109.0   \n",
            "531442     392232              3.0     20.0              3.0        18.0   \n",
            "550641     392236              1.0     20.0              3.0       109.0   \n",
            "550663     392236              1.0     20.0              3.0       109.0   \n",
            "550685     392236              1.0     20.0              3.0       109.0   \n",
            "550707     392236              1.0     20.0              3.0       109.0   \n",
            "550729     392236              1.0     20.0              3.0       109.0   \n",
            "636662     419118              3.0     20.0              3.0        23.0   \n",
            "636684     419118              3.0     20.0              3.0        23.0   \n",
            "636772     419118              3.0     20.0              3.0        23.0   \n",
            "764526     419142              3.0     20.0              3.0       185.0   \n",
            "764548     419142              3.0     20.0              3.0       185.0   \n",
            "958720     501211              4.0     20.0              3.0        23.0   \n",
            "958764     501211              4.0     20.0              3.0        23.0   \n",
            "1110959    501241              3.0     20.0              3.0        23.0   \n",
            "1110981    501241              3.0     20.0              3.0        23.0   \n",
            "1178389    501254              3.0     20.0              3.0       109.0   \n",
            "1178455    501254              3.0     20.0              3.0       109.0   \n",
            "1178521    501254              3.0     20.0              3.0       109.0   \n",
            "1198476    501258              3.0     20.0              3.0        23.0   \n",
            "1415703    548335              3.0     20.0              3.0        35.0   \n",
            "1415725    548335              3.0     20.0              3.0        35.0   \n",
            "1415813    548335              3.0     20.0              3.0        35.0   \n",
            "1429282    548337              3.0     20.0              3.0        71.0   \n",
            "1429348    548337              3.0     20.0              3.0        71.0   \n",
            "1496334    548352              1.0     20.0              3.0       109.0   \n",
            "1496378    548352              1.0     20.0              3.0       109.0   \n",
            "1496400    548352              1.0     20.0              3.0       109.0   \n",
            "1496422    548352              1.0     20.0              3.0       109.0   \n",
            "1496444    548352              1.0     20.0              3.0       109.0   \n",
            "\n",
            "         Non_Striker_Id  Player_Id  Team_Id  Is_Keeper  Is_Captain  \n",
            "38438              20.0       20.0      3.0        1.0         1.0  \n",
            "38460              20.0       20.0      3.0        1.0         1.0  \n",
            "162276             20.0       20.0      3.0        1.0         1.0  \n",
            "162342             20.0       20.0      3.0        1.0         1.0  \n",
            "162386             20.0       20.0      3.0        1.0         1.0  \n",
            "188721             20.0       20.0      3.0        1.0         1.0  \n",
            "188743             20.0       20.0      3.0        1.0         1.0  \n",
            "188765             20.0       20.0      3.0        1.0         1.0  \n",
            "188787             20.0       20.0      3.0        1.0         1.0  \n",
            "188809             20.0       20.0      3.0        1.0         1.0  \n",
            "188875             20.0       20.0      3.0        1.0         1.0  \n",
            "188897             20.0       20.0      3.0        1.0         1.0  \n",
            "293814             20.0       20.0      3.0        0.0         1.0  \n",
            "293902             20.0       20.0      3.0        0.0         1.0  \n",
            "293924             20.0       20.0      3.0        0.0         1.0  \n",
            "301941             20.0       20.0      3.0        0.0         1.0  \n",
            "301985             20.0       20.0      3.0        0.0         1.0  \n",
            "395741             20.0       20.0      3.0        1.0         1.0  \n",
            "395785             20.0       20.0      3.0        1.0         1.0  \n",
            "395807             20.0       20.0      3.0        1.0         1.0  \n",
            "395851             20.0       20.0      3.0        1.0         1.0  \n",
            "433622             20.0       20.0      3.0        1.0         1.0  \n",
            "433644             20.0       20.0      3.0        1.0         1.0  \n",
            "433754             20.0       20.0      3.0        1.0         1.0  \n",
            "531442             20.0       20.0      3.0        1.0         1.0  \n",
            "550641             20.0       20.0      3.0        1.0         1.0  \n",
            "550663             20.0       20.0      3.0        1.0         1.0  \n",
            "550685             20.0       20.0      3.0        1.0         1.0  \n",
            "550707             20.0       20.0      3.0        1.0         1.0  \n",
            "550729             20.0       20.0      3.0        1.0         1.0  \n",
            "636662             20.0       20.0      3.0        1.0         1.0  \n",
            "636684             20.0       20.0      3.0        1.0         1.0  \n",
            "636772             20.0       20.0      3.0        1.0         1.0  \n",
            "764526             20.0       20.0      3.0        1.0         1.0  \n",
            "764548             20.0       20.0      3.0        1.0         1.0  \n",
            "958720             20.0       20.0      3.0        1.0         1.0  \n",
            "958764             20.0       20.0      3.0        1.0         1.0  \n",
            "1110959            20.0       20.0      3.0        1.0         1.0  \n",
            "1110981            20.0       20.0      3.0        1.0         1.0  \n",
            "1178389            20.0       20.0      3.0        1.0         1.0  \n",
            "1178455            20.0       20.0      3.0        1.0         1.0  \n",
            "1178521            20.0       20.0      3.0        1.0         1.0  \n",
            "1198476            20.0       20.0      3.0        1.0         1.0  \n",
            "1415703            20.0       20.0      3.0        1.0         1.0  \n",
            "1415725            20.0       20.0      3.0        1.0         1.0  \n",
            "1415813            20.0       20.0      3.0        1.0         1.0  \n",
            "1429282            20.0       20.0      3.0        1.0         1.0  \n",
            "1429348            20.0       20.0      3.0        1.0         1.0  \n",
            "1496334            20.0       20.0      3.0        1.0         1.0  \n",
            "1496378            20.0       20.0      3.0        1.0         1.0  \n",
            "1496400            20.0       20.0      3.0        1.0         1.0  \n",
            "1496422            20.0       20.0      3.0        1.0         1.0  \n",
            "1496444            20.0       20.0      3.0        1.0         1.0  \n"
          ]
        }
      ],
      "source": [
        "print(nonstriker)"
      ]
    },
    {
      "cell_type": "code",
      "execution_count": null,
      "metadata": {
        "colab": {
          "base_uri": "https://localhost:8080/"
        },
        "id": "PrTsQcU1sDpr",
        "outputId": "8b64f07c-031a-484c-af43-150dc2303e2f"
      },
      "outputs": [
        {
          "name": "stdout",
          "output_type": "stream",
          "text": [
            "         Match_Id  Match_Winner_Id  Over_Id  Team_Batting_Id  Striker_Id  \\\n",
            "38438      335994              3.0     20.0              3.0        22.0   \n",
            "38460      335994              3.0     20.0              3.0        22.0   \n",
            "162276     336018              3.0     20.0              3.0       109.0   \n",
            "162342     336018              3.0     20.0              3.0       109.0   \n",
            "162386     336018              3.0     20.0              3.0       109.0   \n",
            "188721     336023              7.0     20.0              3.0       109.0   \n",
            "188743     336023              7.0     20.0              3.0       109.0   \n",
            "188765     336023              7.0     20.0              3.0       109.0   \n",
            "188787     336023              7.0     20.0              3.0       109.0   \n",
            "188809     336023              7.0     20.0              3.0       109.0   \n",
            "188875     336023              7.0     20.0              3.0       109.0   \n",
            "188897     336023              7.0     20.0              3.0       109.0   \n",
            "293814     336045              5.0     20.0              3.0       127.0   \n",
            "293902     336045              5.0     20.0              3.0        23.0   \n",
            "293924     336045              5.0     20.0              3.0        23.0   \n",
            "301941     392186              7.0     20.0              3.0       119.0   \n",
            "301985     392186              7.0     20.0              3.0       119.0   \n",
            "395741     392207              3.0     20.0              3.0        21.0   \n",
            "395785     392207              3.0     20.0              3.0        21.0   \n",
            "395807     392207              3.0     20.0              3.0        21.0   \n",
            "395851     392207              3.0     20.0              3.0       109.0   \n",
            "433622     392214              3.0     20.0              3.0       109.0   \n",
            "433644     392214              3.0     20.0              3.0       109.0   \n",
            "433754     392214              3.0     20.0              3.0       109.0   \n",
            "531442     392232              3.0     20.0              3.0        18.0   \n",
            "550641     392236              1.0     20.0              3.0       109.0   \n",
            "550663     392236              1.0     20.0              3.0       109.0   \n",
            "550685     392236              1.0     20.0              3.0       109.0   \n",
            "550707     392236              1.0     20.0              3.0       109.0   \n",
            "550729     392236              1.0     20.0              3.0       109.0   \n",
            "636662     419118              3.0     20.0              3.0        23.0   \n",
            "636684     419118              3.0     20.0              3.0        23.0   \n",
            "636772     419118              3.0     20.0              3.0        23.0   \n",
            "764526     419142              3.0     20.0              3.0       185.0   \n",
            "764548     419142              3.0     20.0              3.0       185.0   \n",
            "958720     501211              4.0     20.0              3.0        23.0   \n",
            "958764     501211              4.0     20.0              3.0        23.0   \n",
            "1110959    501241              3.0     20.0              3.0        23.0   \n",
            "1110981    501241              3.0     20.0              3.0        23.0   \n",
            "1178389    501254              3.0     20.0              3.0       109.0   \n",
            "1178455    501254              3.0     20.0              3.0       109.0   \n",
            "1178521    501254              3.0     20.0              3.0       109.0   \n",
            "1198476    501258              3.0     20.0              3.0        23.0   \n",
            "1415703    548335              3.0     20.0              3.0        35.0   \n",
            "1415725    548335              3.0     20.0              3.0        35.0   \n",
            "1415813    548335              3.0     20.0              3.0        35.0   \n",
            "1429282    548337              3.0     20.0              3.0        71.0   \n",
            "1429348    548337              3.0     20.0              3.0        71.0   \n",
            "1496334    548352              1.0     20.0              3.0       109.0   \n",
            "1496378    548352              1.0     20.0              3.0       109.0   \n",
            "1496400    548352              1.0     20.0              3.0       109.0   \n",
            "1496422    548352              1.0     20.0              3.0       109.0   \n",
            "1496444    548352              1.0     20.0              3.0       109.0   \n",
            "\n",
            "         Non_Striker_Id  Player_Id  Team_Id  \n",
            "38438              20.0       20.0      3.0  \n",
            "38460              20.0       20.0      3.0  \n",
            "162276             20.0       20.0      3.0  \n",
            "162342             20.0       20.0      3.0  \n",
            "162386             20.0       20.0      3.0  \n",
            "188721             20.0       20.0      3.0  \n",
            "188743             20.0       20.0      3.0  \n",
            "188765             20.0       20.0      3.0  \n",
            "188787             20.0       20.0      3.0  \n",
            "188809             20.0       20.0      3.0  \n",
            "188875             20.0       20.0      3.0  \n",
            "188897             20.0       20.0      3.0  \n",
            "293814             20.0       20.0      3.0  \n",
            "293902             20.0       20.0      3.0  \n",
            "293924             20.0       20.0      3.0  \n",
            "301941             20.0       20.0      3.0  \n",
            "301985             20.0       20.0      3.0  \n",
            "395741             20.0       20.0      3.0  \n",
            "395785             20.0       20.0      3.0  \n",
            "395807             20.0       20.0      3.0  \n",
            "395851             20.0       20.0      3.0  \n",
            "433622             20.0       20.0      3.0  \n",
            "433644             20.0       20.0      3.0  \n",
            "433754             20.0       20.0      3.0  \n",
            "531442             20.0       20.0      3.0  \n",
            "550641             20.0       20.0      3.0  \n",
            "550663             20.0       20.0      3.0  \n",
            "550685             20.0       20.0      3.0  \n",
            "550707             20.0       20.0      3.0  \n",
            "550729             20.0       20.0      3.0  \n",
            "636662             20.0       20.0      3.0  \n",
            "636684             20.0       20.0      3.0  \n",
            "636772             20.0       20.0      3.0  \n",
            "764526             20.0       20.0      3.0  \n",
            "764548             20.0       20.0      3.0  \n",
            "958720             20.0       20.0      3.0  \n",
            "958764             20.0       20.0      3.0  \n",
            "1110959            20.0       20.0      3.0  \n",
            "1110981            20.0       20.0      3.0  \n",
            "1178389            20.0       20.0      3.0  \n",
            "1178455            20.0       20.0      3.0  \n",
            "1178521            20.0       20.0      3.0  \n",
            "1198476            20.0       20.0      3.0  \n",
            "1415703            20.0       20.0      3.0  \n",
            "1415725            20.0       20.0      3.0  \n",
            "1415813            20.0       20.0      3.0  \n",
            "1429282            20.0       20.0      3.0  \n",
            "1429348            20.0       20.0      3.0  \n",
            "1496334            20.0       20.0      3.0  \n",
            "1496378            20.0       20.0      3.0  \n",
            "1496400            20.0       20.0      3.0  \n",
            "1496422            20.0       20.0      3.0  \n",
            "1496444            20.0       20.0      3.0  \n"
          ]
        }
      ],
      "source": [
        "nonstriker=nonstriker.drop(['Is_Keeper','Is_Captain'],axis=1)\n",
        "print(nonstriker)"
      ]
    },
    {
      "cell_type": "markdown",
      "metadata": {
        "id": "WvVwaZQTBrls"
      },
      "source": [
        "Creating a new column called 'Outcome' where the data ot holds are either 1 or 0"
      ]
    },
    {
      "cell_type": "code",
      "execution_count": null,
      "metadata": {
        "colab": {
          "base_uri": "https://localhost:8080/"
        },
        "id": "o-Yaus89tt9R",
        "outputId": "63e13275-a708-4d20-8977-c7d0ab5a996c"
      },
      "outputs": [
        {
          "name": "stdout",
          "output_type": "stream",
          "text": [
            "         Match_Id  Match_Winner_Id  Over_Id  Team_Batting_Id  Striker_Id  \\\n",
            "38394      335994              3.0     20.0              3.0        20.0   \n",
            "38416      335994              3.0     20.0              3.0        20.0   \n",
            "38482      335994              3.0     20.0              3.0        20.0   \n",
            "74936      336001              3.0     20.0              3.0        20.0   \n",
            "74958      336001              3.0     20.0              3.0        20.0   \n",
            "...           ...              ...      ...              ...         ...   \n",
            "1429304    548337              3.0     20.0              3.0        20.0   \n",
            "1429326    548337              3.0     20.0              3.0        20.0   \n",
            "1429370    548337              3.0     20.0              3.0        20.0   \n",
            "1496356    548352              1.0     20.0              3.0        20.0   \n",
            "1522843    548357              3.0     20.0              3.0        20.0   \n",
            "\n",
            "         Non_Striker_Id  Player_Id  Team_Id  Outcome  \n",
            "38394              22.0       20.0      3.0      1.0  \n",
            "38416              22.0       20.0      3.0      1.0  \n",
            "38482              22.0       20.0      3.0      1.0  \n",
            "74936              19.0       20.0      3.0      1.0  \n",
            "74958              19.0       20.0      3.0      1.0  \n",
            "...                 ...        ...      ...      ...  \n",
            "1429304            71.0       20.0      3.0      1.0  \n",
            "1429326            71.0       20.0      3.0      1.0  \n",
            "1429370            71.0       20.0      3.0      1.0  \n",
            "1496356           109.0       20.0      3.0      NaN  \n",
            "1522843            71.0       20.0      3.0      1.0  \n",
            "\n",
            "[65 rows x 9 columns]\n"
          ]
        }
      ],
      "source": [
        "#Outcome will be 1 if Match winner is CSK \n",
        "striker.loc[striker['Match_Winner_Id']==3.0,'Outcome']=1  \n",
        "print(striker)"
      ]
    },
    {
      "cell_type": "code",
      "execution_count": null,
      "metadata": {
        "colab": {
          "base_uri": "https://localhost:8080/"
        },
        "id": "Y-sGDijZ2-gL",
        "outputId": "addb0934-4fb9-428f-92ef-ced8e62a0f89"
      },
      "outputs": [
        {
          "name": "stdout",
          "output_type": "stream",
          "text": [
            "         Match_Id  Match_Winner_Id  Over_Id  Team_Batting_Id  Striker_Id  \\\n",
            "38394      335994              3.0     20.0              3.0        20.0   \n",
            "38416      335994              3.0     20.0              3.0        20.0   \n",
            "38482      335994              3.0     20.0              3.0        20.0   \n",
            "74936      336001              3.0     20.0              3.0        20.0   \n",
            "74958      336001              3.0     20.0              3.0        20.0   \n",
            "...           ...              ...      ...              ...         ...   \n",
            "1429304    548337              3.0     20.0              3.0        20.0   \n",
            "1429326    548337              3.0     20.0              3.0        20.0   \n",
            "1429370    548337              3.0     20.0              3.0        20.0   \n",
            "1496356    548352              1.0     20.0              3.0        20.0   \n",
            "1522843    548357              3.0     20.0              3.0        20.0   \n",
            "\n",
            "         Non_Striker_Id  Player_Id  Team_Id  Outcome  \n",
            "38394              22.0       20.0      3.0      1.0  \n",
            "38416              22.0       20.0      3.0      1.0  \n",
            "38482              22.0       20.0      3.0      1.0  \n",
            "74936              19.0       20.0      3.0      1.0  \n",
            "74958              19.0       20.0      3.0      1.0  \n",
            "...                 ...        ...      ...      ...  \n",
            "1429304            71.0       20.0      3.0      1.0  \n",
            "1429326            71.0       20.0      3.0      1.0  \n",
            "1429370            71.0       20.0      3.0      1.0  \n",
            "1496356           109.0       20.0      3.0      0.0  \n",
            "1522843            71.0       20.0      3.0      1.0  \n",
            "\n",
            "[65 rows x 9 columns]\n"
          ]
        }
      ],
      "source": [
        "striker.loc[striker['Match_Winner_Id']!=3.0,'Outcome']=0\n",
        "print(striker)"
      ]
    },
    {
      "cell_type": "code",
      "execution_count": null,
      "metadata": {
        "colab": {
          "base_uri": "https://localhost:8080/"
        },
        "id": "xlOQBO6O3YWb",
        "outputId": "60ab7dd6-d8f4-467c-cf02-ae347f8387ba"
      },
      "outputs": [
        {
          "name": "stdout",
          "output_type": "stream",
          "text": [
            "         Match_Id  Match_Winner_Id  Over_Id  Team_Batting_Id  Striker_Id  \\\n",
            "38438      335994              3.0     20.0              3.0        22.0   \n",
            "38460      335994              3.0     20.0              3.0        22.0   \n",
            "162276     336018              3.0     20.0              3.0       109.0   \n",
            "162342     336018              3.0     20.0              3.0       109.0   \n",
            "162386     336018              3.0     20.0              3.0       109.0   \n",
            "188721     336023              7.0     20.0              3.0       109.0   \n",
            "188743     336023              7.0     20.0              3.0       109.0   \n",
            "188765     336023              7.0     20.0              3.0       109.0   \n",
            "188787     336023              7.0     20.0              3.0       109.0   \n",
            "188809     336023              7.0     20.0              3.0       109.0   \n",
            "188875     336023              7.0     20.0              3.0       109.0   \n",
            "188897     336023              7.0     20.0              3.0       109.0   \n",
            "293814     336045              5.0     20.0              3.0       127.0   \n",
            "293902     336045              5.0     20.0              3.0        23.0   \n",
            "293924     336045              5.0     20.0              3.0        23.0   \n",
            "301941     392186              7.0     20.0              3.0       119.0   \n",
            "301985     392186              7.0     20.0              3.0       119.0   \n",
            "395741     392207              3.0     20.0              3.0        21.0   \n",
            "395785     392207              3.0     20.0              3.0        21.0   \n",
            "395807     392207              3.0     20.0              3.0        21.0   \n",
            "395851     392207              3.0     20.0              3.0       109.0   \n",
            "433622     392214              3.0     20.0              3.0       109.0   \n",
            "433644     392214              3.0     20.0              3.0       109.0   \n",
            "433754     392214              3.0     20.0              3.0       109.0   \n",
            "531442     392232              3.0     20.0              3.0        18.0   \n",
            "550641     392236              1.0     20.0              3.0       109.0   \n",
            "550663     392236              1.0     20.0              3.0       109.0   \n",
            "550685     392236              1.0     20.0              3.0       109.0   \n",
            "550707     392236              1.0     20.0              3.0       109.0   \n",
            "550729     392236              1.0     20.0              3.0       109.0   \n",
            "636662     419118              3.0     20.0              3.0        23.0   \n",
            "636684     419118              3.0     20.0              3.0        23.0   \n",
            "636772     419118              3.0     20.0              3.0        23.0   \n",
            "764526     419142              3.0     20.0              3.0       185.0   \n",
            "764548     419142              3.0     20.0              3.0       185.0   \n",
            "958720     501211              4.0     20.0              3.0        23.0   \n",
            "958764     501211              4.0     20.0              3.0        23.0   \n",
            "1110959    501241              3.0     20.0              3.0        23.0   \n",
            "1110981    501241              3.0     20.0              3.0        23.0   \n",
            "1178389    501254              3.0     20.0              3.0       109.0   \n",
            "1178455    501254              3.0     20.0              3.0       109.0   \n",
            "1178521    501254              3.0     20.0              3.0       109.0   \n",
            "1198476    501258              3.0     20.0              3.0        23.0   \n",
            "1415703    548335              3.0     20.0              3.0        35.0   \n",
            "1415725    548335              3.0     20.0              3.0        35.0   \n",
            "1415813    548335              3.0     20.0              3.0        35.0   \n",
            "1429282    548337              3.0     20.0              3.0        71.0   \n",
            "1429348    548337              3.0     20.0              3.0        71.0   \n",
            "1496334    548352              1.0     20.0              3.0       109.0   \n",
            "1496378    548352              1.0     20.0              3.0       109.0   \n",
            "1496400    548352              1.0     20.0              3.0       109.0   \n",
            "1496422    548352              1.0     20.0              3.0       109.0   \n",
            "1496444    548352              1.0     20.0              3.0       109.0   \n",
            "\n",
            "         Non_Striker_Id  Player_Id  Team_Id  Outcome  \n",
            "38438              20.0       20.0      3.0      1.0  \n",
            "38460              20.0       20.0      3.0      1.0  \n",
            "162276             20.0       20.0      3.0      1.0  \n",
            "162342             20.0       20.0      3.0      1.0  \n",
            "162386             20.0       20.0      3.0      1.0  \n",
            "188721             20.0       20.0      3.0      0.0  \n",
            "188743             20.0       20.0      3.0      0.0  \n",
            "188765             20.0       20.0      3.0      0.0  \n",
            "188787             20.0       20.0      3.0      0.0  \n",
            "188809             20.0       20.0      3.0      0.0  \n",
            "188875             20.0       20.0      3.0      0.0  \n",
            "188897             20.0       20.0      3.0      0.0  \n",
            "293814             20.0       20.0      3.0      0.0  \n",
            "293902             20.0       20.0      3.0      0.0  \n",
            "293924             20.0       20.0      3.0      0.0  \n",
            "301941             20.0       20.0      3.0      0.0  \n",
            "301985             20.0       20.0      3.0      0.0  \n",
            "395741             20.0       20.0      3.0      1.0  \n",
            "395785             20.0       20.0      3.0      1.0  \n",
            "395807             20.0       20.0      3.0      1.0  \n",
            "395851             20.0       20.0      3.0      1.0  \n",
            "433622             20.0       20.0      3.0      1.0  \n",
            "433644             20.0       20.0      3.0      1.0  \n",
            "433754             20.0       20.0      3.0      1.0  \n",
            "531442             20.0       20.0      3.0      1.0  \n",
            "550641             20.0       20.0      3.0      0.0  \n",
            "550663             20.0       20.0      3.0      0.0  \n",
            "550685             20.0       20.0      3.0      0.0  \n",
            "550707             20.0       20.0      3.0      0.0  \n",
            "550729             20.0       20.0      3.0      0.0  \n",
            "636662             20.0       20.0      3.0      1.0  \n",
            "636684             20.0       20.0      3.0      1.0  \n",
            "636772             20.0       20.0      3.0      1.0  \n",
            "764526             20.0       20.0      3.0      1.0  \n",
            "764548             20.0       20.0      3.0      1.0  \n",
            "958720             20.0       20.0      3.0      0.0  \n",
            "958764             20.0       20.0      3.0      0.0  \n",
            "1110959            20.0       20.0      3.0      1.0  \n",
            "1110981            20.0       20.0      3.0      1.0  \n",
            "1178389            20.0       20.0      3.0      1.0  \n",
            "1178455            20.0       20.0      3.0      1.0  \n",
            "1178521            20.0       20.0      3.0      1.0  \n",
            "1198476            20.0       20.0      3.0      1.0  \n",
            "1415703            20.0       20.0      3.0      1.0  \n",
            "1415725            20.0       20.0      3.0      1.0  \n",
            "1415813            20.0       20.0      3.0      1.0  \n",
            "1429282            20.0       20.0      3.0      1.0  \n",
            "1429348            20.0       20.0      3.0      1.0  \n",
            "1496334            20.0       20.0      3.0      0.0  \n",
            "1496378            20.0       20.0      3.0      0.0  \n",
            "1496400            20.0       20.0      3.0      0.0  \n",
            "1496422            20.0       20.0      3.0      0.0  \n",
            "1496444            20.0       20.0      3.0      0.0  \n"
          ]
        }
      ],
      "source": [
        "nonstriker.loc[nonstriker['Match_Winner_Id']==3.0,'Outcome']=1\n",
        "nonstriker.loc[nonstriker['Match_Winner_Id']!=3.0,'Outcome']=0\n",
        "print(nonstriker)"
      ]
    },
    {
      "cell_type": "code",
      "execution_count": null,
      "metadata": {
        "id": "_wcGaFkZ36Xu"
      },
      "outputs": [],
      "source": [
        " striker=striker.drop(['Match_Id'],axis=1)\n",
        " nonstriker=nonstriker.drop(['Match_Id'],axis=1)"
      ]
    },
    {
      "cell_type": "markdown",
      "metadata": {
        "id": "AZf1E-ShBa8J"
      },
      "source": [
        "Algorithm Used: Logistic Regression"
      ]
    },
    {
      "cell_type": "markdown",
      "metadata": {
        "id": "0hLMDY1vCiEy"
      },
      "source": [
        "Importing LogisticRegression model from scikit-learn"
      ]
    },
    {
      "cell_type": "code",
      "execution_count": null,
      "metadata": {
        "id": "Ba1yxSwSAmtw"
      },
      "outputs": [],
      "source": [
        "from sklearn.linear_model import LogisticRegression"
      ]
    },
    {
      "cell_type": "code",
      "execution_count": null,
      "metadata": {
        "colab": {
          "base_uri": "https://localhost:8080/",
          "height": 207
        },
        "id": "6SO54HMCBZ8o",
        "outputId": "8b2cde4a-3c7f-4926-becb-355033050706"
      },
      "outputs": [
        {
          "data": {
            "text/html": [
              "\n",
              "  <div id=\"df-b1071510-2907-4561-9220-018309624704\">\n",
              "    <div class=\"colab-df-container\">\n",
              "      <div>\n",
              "<style scoped>\n",
              "    .dataframe tbody tr th:only-of-type {\n",
              "        vertical-align: middle;\n",
              "    }\n",
              "\n",
              "    .dataframe tbody tr th {\n",
              "        vertical-align: top;\n",
              "    }\n",
              "\n",
              "    .dataframe thead th {\n",
              "        text-align: right;\n",
              "    }\n",
              "</style>\n",
              "<table border=\"1\" class=\"dataframe\">\n",
              "  <thead>\n",
              "    <tr style=\"text-align: right;\">\n",
              "      <th></th>\n",
              "      <th>Match_Winner_Id</th>\n",
              "      <th>Over_Id</th>\n",
              "      <th>Team_Batting_Id</th>\n",
              "      <th>Striker_Id</th>\n",
              "      <th>Non_Striker_Id</th>\n",
              "      <th>Player_Id</th>\n",
              "      <th>Team_Id</th>\n",
              "      <th>Outcome</th>\n",
              "    </tr>\n",
              "  </thead>\n",
              "  <tbody>\n",
              "    <tr>\n",
              "      <th>38394</th>\n",
              "      <td>3.0</td>\n",
              "      <td>20.0</td>\n",
              "      <td>3.0</td>\n",
              "      <td>20.0</td>\n",
              "      <td>22.0</td>\n",
              "      <td>20.0</td>\n",
              "      <td>3.0</td>\n",
              "      <td>1.0</td>\n",
              "    </tr>\n",
              "    <tr>\n",
              "      <th>38416</th>\n",
              "      <td>3.0</td>\n",
              "      <td>20.0</td>\n",
              "      <td>3.0</td>\n",
              "      <td>20.0</td>\n",
              "      <td>22.0</td>\n",
              "      <td>20.0</td>\n",
              "      <td>3.0</td>\n",
              "      <td>1.0</td>\n",
              "    </tr>\n",
              "    <tr>\n",
              "      <th>38482</th>\n",
              "      <td>3.0</td>\n",
              "      <td>20.0</td>\n",
              "      <td>3.0</td>\n",
              "      <td>20.0</td>\n",
              "      <td>22.0</td>\n",
              "      <td>20.0</td>\n",
              "      <td>3.0</td>\n",
              "      <td>1.0</td>\n",
              "    </tr>\n",
              "    <tr>\n",
              "      <th>74936</th>\n",
              "      <td>3.0</td>\n",
              "      <td>20.0</td>\n",
              "      <td>3.0</td>\n",
              "      <td>20.0</td>\n",
              "      <td>19.0</td>\n",
              "      <td>20.0</td>\n",
              "      <td>3.0</td>\n",
              "      <td>1.0</td>\n",
              "    </tr>\n",
              "    <tr>\n",
              "      <th>74958</th>\n",
              "      <td>3.0</td>\n",
              "      <td>20.0</td>\n",
              "      <td>3.0</td>\n",
              "      <td>20.0</td>\n",
              "      <td>19.0</td>\n",
              "      <td>20.0</td>\n",
              "      <td>3.0</td>\n",
              "      <td>1.0</td>\n",
              "    </tr>\n",
              "  </tbody>\n",
              "</table>\n",
              "</div>\n",
              "      <button class=\"colab-df-convert\" onclick=\"convertToInteractive('df-b1071510-2907-4561-9220-018309624704')\"\n",
              "              title=\"Convert this dataframe to an interactive table.\"\n",
              "              style=\"display:none;\">\n",
              "        \n",
              "  <svg xmlns=\"http://www.w3.org/2000/svg\" height=\"24px\"viewBox=\"0 0 24 24\"\n",
              "       width=\"24px\">\n",
              "    <path d=\"M0 0h24v24H0V0z\" fill=\"none\"/>\n",
              "    <path d=\"M18.56 5.44l.94 2.06.94-2.06 2.06-.94-2.06-.94-.94-2.06-.94 2.06-2.06.94zm-11 1L8.5 8.5l.94-2.06 2.06-.94-2.06-.94L8.5 2.5l-.94 2.06-2.06.94zm10 10l.94 2.06.94-2.06 2.06-.94-2.06-.94-.94-2.06-.94 2.06-2.06.94z\"/><path d=\"M17.41 7.96l-1.37-1.37c-.4-.4-.92-.59-1.43-.59-.52 0-1.04.2-1.43.59L10.3 9.45l-7.72 7.72c-.78.78-.78 2.05 0 2.83L4 21.41c.39.39.9.59 1.41.59.51 0 1.02-.2 1.41-.59l7.78-7.78 2.81-2.81c.8-.78.8-2.07 0-2.86zM5.41 20L4 18.59l7.72-7.72 1.47 1.35L5.41 20z\"/>\n",
              "  </svg>\n",
              "      </button>\n",
              "      \n",
              "  <style>\n",
              "    .colab-df-container {\n",
              "      display:flex;\n",
              "      flex-wrap:wrap;\n",
              "      gap: 12px;\n",
              "    }\n",
              "\n",
              "    .colab-df-convert {\n",
              "      background-color: #E8F0FE;\n",
              "      border: none;\n",
              "      border-radius: 50%;\n",
              "      cursor: pointer;\n",
              "      display: none;\n",
              "      fill: #1967D2;\n",
              "      height: 32px;\n",
              "      padding: 0 0 0 0;\n",
              "      width: 32px;\n",
              "    }\n",
              "\n",
              "    .colab-df-convert:hover {\n",
              "      background-color: #E2EBFA;\n",
              "      box-shadow: 0px 1px 2px rgba(60, 64, 67, 0.3), 0px 1px 3px 1px rgba(60, 64, 67, 0.15);\n",
              "      fill: #174EA6;\n",
              "    }\n",
              "\n",
              "    [theme=dark] .colab-df-convert {\n",
              "      background-color: #3B4455;\n",
              "      fill: #D2E3FC;\n",
              "    }\n",
              "\n",
              "    [theme=dark] .colab-df-convert:hover {\n",
              "      background-color: #434B5C;\n",
              "      box-shadow: 0px 1px 3px 1px rgba(0, 0, 0, 0.15);\n",
              "      filter: drop-shadow(0px 1px 2px rgba(0, 0, 0, 0.3));\n",
              "      fill: #FFFFFF;\n",
              "    }\n",
              "  </style>\n",
              "\n",
              "      <script>\n",
              "        const buttonEl =\n",
              "          document.querySelector('#df-b1071510-2907-4561-9220-018309624704 button.colab-df-convert');\n",
              "        buttonEl.style.display =\n",
              "          google.colab.kernel.accessAllowed ? 'block' : 'none';\n",
              "\n",
              "        async function convertToInteractive(key) {\n",
              "          const element = document.querySelector('#df-b1071510-2907-4561-9220-018309624704');\n",
              "          const dataTable =\n",
              "            await google.colab.kernel.invokeFunction('convertToInteractive',\n",
              "                                                     [key], {});\n",
              "          if (!dataTable) return;\n",
              "\n",
              "          const docLinkHtml = 'Like what you see? Visit the ' +\n",
              "            '<a target=\"_blank\" href=https://colab.research.google.com/notebooks/data_table.ipynb>data table notebook</a>'\n",
              "            + ' to learn more about interactive tables.';\n",
              "          element.innerHTML = '';\n",
              "          dataTable['output_type'] = 'display_data';\n",
              "          await google.colab.output.renderOutput(dataTable, element);\n",
              "          const docLink = document.createElement('div');\n",
              "          docLink.innerHTML = docLinkHtml;\n",
              "          element.appendChild(docLink);\n",
              "        }\n",
              "      </script>\n",
              "    </div>\n",
              "  </div>\n",
              "  "
            ],
            "text/plain": [
              "       Match_Winner_Id  Over_Id  Team_Batting_Id  Striker_Id  Non_Striker_Id  \\\n",
              "38394              3.0     20.0              3.0        20.0            22.0   \n",
              "38416              3.0     20.0              3.0        20.0            22.0   \n",
              "38482              3.0     20.0              3.0        20.0            22.0   \n",
              "74936              3.0     20.0              3.0        20.0            19.0   \n",
              "74958              3.0     20.0              3.0        20.0            19.0   \n",
              "\n",
              "       Player_Id  Team_Id  Outcome  \n",
              "38394       20.0      3.0      1.0  \n",
              "38416       20.0      3.0      1.0  \n",
              "38482       20.0      3.0      1.0  \n",
              "74936       20.0      3.0      1.0  \n",
              "74958       20.0      3.0      1.0  "
            ]
          },
          "execution_count": 28,
          "metadata": {},
          "output_type": "execute_result"
        }
      ],
      "source": [
        "#first five set of data in striker and nonstriker datasets\n",
        "striker.head()"
      ]
    },
    {
      "cell_type": "code",
      "execution_count": null,
      "metadata": {
        "colab": {
          "base_uri": "https://localhost:8080/",
          "height": 207
        },
        "id": "e3Ij3LnYCPrz",
        "outputId": "35af66cd-7f11-4679-9755-a57c0e15258b"
      },
      "outputs": [
        {
          "data": {
            "text/html": [
              "\n",
              "  <div id=\"df-baaaa2a4-f347-4ce5-a9c9-1b703c230482\">\n",
              "    <div class=\"colab-df-container\">\n",
              "      <div>\n",
              "<style scoped>\n",
              "    .dataframe tbody tr th:only-of-type {\n",
              "        vertical-align: middle;\n",
              "    }\n",
              "\n",
              "    .dataframe tbody tr th {\n",
              "        vertical-align: top;\n",
              "    }\n",
              "\n",
              "    .dataframe thead th {\n",
              "        text-align: right;\n",
              "    }\n",
              "</style>\n",
              "<table border=\"1\" class=\"dataframe\">\n",
              "  <thead>\n",
              "    <tr style=\"text-align: right;\">\n",
              "      <th></th>\n",
              "      <th>Match_Winner_Id</th>\n",
              "      <th>Over_Id</th>\n",
              "      <th>Team_Batting_Id</th>\n",
              "      <th>Striker_Id</th>\n",
              "      <th>Non_Striker_Id</th>\n",
              "      <th>Player_Id</th>\n",
              "      <th>Team_Id</th>\n",
              "      <th>Outcome</th>\n",
              "    </tr>\n",
              "  </thead>\n",
              "  <tbody>\n",
              "    <tr>\n",
              "      <th>38438</th>\n",
              "      <td>3.0</td>\n",
              "      <td>20.0</td>\n",
              "      <td>3.0</td>\n",
              "      <td>22.0</td>\n",
              "      <td>20.0</td>\n",
              "      <td>20.0</td>\n",
              "      <td>3.0</td>\n",
              "      <td>1.0</td>\n",
              "    </tr>\n",
              "    <tr>\n",
              "      <th>38460</th>\n",
              "      <td>3.0</td>\n",
              "      <td>20.0</td>\n",
              "      <td>3.0</td>\n",
              "      <td>22.0</td>\n",
              "      <td>20.0</td>\n",
              "      <td>20.0</td>\n",
              "      <td>3.0</td>\n",
              "      <td>1.0</td>\n",
              "    </tr>\n",
              "    <tr>\n",
              "      <th>162276</th>\n",
              "      <td>3.0</td>\n",
              "      <td>20.0</td>\n",
              "      <td>3.0</td>\n",
              "      <td>109.0</td>\n",
              "      <td>20.0</td>\n",
              "      <td>20.0</td>\n",
              "      <td>3.0</td>\n",
              "      <td>1.0</td>\n",
              "    </tr>\n",
              "    <tr>\n",
              "      <th>162342</th>\n",
              "      <td>3.0</td>\n",
              "      <td>20.0</td>\n",
              "      <td>3.0</td>\n",
              "      <td>109.0</td>\n",
              "      <td>20.0</td>\n",
              "      <td>20.0</td>\n",
              "      <td>3.0</td>\n",
              "      <td>1.0</td>\n",
              "    </tr>\n",
              "    <tr>\n",
              "      <th>162386</th>\n",
              "      <td>3.0</td>\n",
              "      <td>20.0</td>\n",
              "      <td>3.0</td>\n",
              "      <td>109.0</td>\n",
              "      <td>20.0</td>\n",
              "      <td>20.0</td>\n",
              "      <td>3.0</td>\n",
              "      <td>1.0</td>\n",
              "    </tr>\n",
              "  </tbody>\n",
              "</table>\n",
              "</div>\n",
              "      <button class=\"colab-df-convert\" onclick=\"convertToInteractive('df-baaaa2a4-f347-4ce5-a9c9-1b703c230482')\"\n",
              "              title=\"Convert this dataframe to an interactive table.\"\n",
              "              style=\"display:none;\">\n",
              "        \n",
              "  <svg xmlns=\"http://www.w3.org/2000/svg\" height=\"24px\"viewBox=\"0 0 24 24\"\n",
              "       width=\"24px\">\n",
              "    <path d=\"M0 0h24v24H0V0z\" fill=\"none\"/>\n",
              "    <path d=\"M18.56 5.44l.94 2.06.94-2.06 2.06-.94-2.06-.94-.94-2.06-.94 2.06-2.06.94zm-11 1L8.5 8.5l.94-2.06 2.06-.94-2.06-.94L8.5 2.5l-.94 2.06-2.06.94zm10 10l.94 2.06.94-2.06 2.06-.94-2.06-.94-.94-2.06-.94 2.06-2.06.94z\"/><path d=\"M17.41 7.96l-1.37-1.37c-.4-.4-.92-.59-1.43-.59-.52 0-1.04.2-1.43.59L10.3 9.45l-7.72 7.72c-.78.78-.78 2.05 0 2.83L4 21.41c.39.39.9.59 1.41.59.51 0 1.02-.2 1.41-.59l7.78-7.78 2.81-2.81c.8-.78.8-2.07 0-2.86zM5.41 20L4 18.59l7.72-7.72 1.47 1.35L5.41 20z\"/>\n",
              "  </svg>\n",
              "      </button>\n",
              "      \n",
              "  <style>\n",
              "    .colab-df-container {\n",
              "      display:flex;\n",
              "      flex-wrap:wrap;\n",
              "      gap: 12px;\n",
              "    }\n",
              "\n",
              "    .colab-df-convert {\n",
              "      background-color: #E8F0FE;\n",
              "      border: none;\n",
              "      border-radius: 50%;\n",
              "      cursor: pointer;\n",
              "      display: none;\n",
              "      fill: #1967D2;\n",
              "      height: 32px;\n",
              "      padding: 0 0 0 0;\n",
              "      width: 32px;\n",
              "    }\n",
              "\n",
              "    .colab-df-convert:hover {\n",
              "      background-color: #E2EBFA;\n",
              "      box-shadow: 0px 1px 2px rgba(60, 64, 67, 0.3), 0px 1px 3px 1px rgba(60, 64, 67, 0.15);\n",
              "      fill: #174EA6;\n",
              "    }\n",
              "\n",
              "    [theme=dark] .colab-df-convert {\n",
              "      background-color: #3B4455;\n",
              "      fill: #D2E3FC;\n",
              "    }\n",
              "\n",
              "    [theme=dark] .colab-df-convert:hover {\n",
              "      background-color: #434B5C;\n",
              "      box-shadow: 0px 1px 3px 1px rgba(0, 0, 0, 0.15);\n",
              "      filter: drop-shadow(0px 1px 2px rgba(0, 0, 0, 0.3));\n",
              "      fill: #FFFFFF;\n",
              "    }\n",
              "  </style>\n",
              "\n",
              "      <script>\n",
              "        const buttonEl =\n",
              "          document.querySelector('#df-baaaa2a4-f347-4ce5-a9c9-1b703c230482 button.colab-df-convert');\n",
              "        buttonEl.style.display =\n",
              "          google.colab.kernel.accessAllowed ? 'block' : 'none';\n",
              "\n",
              "        async function convertToInteractive(key) {\n",
              "          const element = document.querySelector('#df-baaaa2a4-f347-4ce5-a9c9-1b703c230482');\n",
              "          const dataTable =\n",
              "            await google.colab.kernel.invokeFunction('convertToInteractive',\n",
              "                                                     [key], {});\n",
              "          if (!dataTable) return;\n",
              "\n",
              "          const docLinkHtml = 'Like what you see? Visit the ' +\n",
              "            '<a target=\"_blank\" href=https://colab.research.google.com/notebooks/data_table.ipynb>data table notebook</a>'\n",
              "            + ' to learn more about interactive tables.';\n",
              "          element.innerHTML = '';\n",
              "          dataTable['output_type'] = 'display_data';\n",
              "          await google.colab.output.renderOutput(dataTable, element);\n",
              "          const docLink = document.createElement('div');\n",
              "          docLink.innerHTML = docLinkHtml;\n",
              "          element.appendChild(docLink);\n",
              "        }\n",
              "      </script>\n",
              "    </div>\n",
              "  </div>\n",
              "  "
            ],
            "text/plain": [
              "        Match_Winner_Id  Over_Id  Team_Batting_Id  Striker_Id  Non_Striker_Id  \\\n",
              "38438               3.0     20.0              3.0        22.0            20.0   \n",
              "38460               3.0     20.0              3.0        22.0            20.0   \n",
              "162276              3.0     20.0              3.0       109.0            20.0   \n",
              "162342              3.0     20.0              3.0       109.0            20.0   \n",
              "162386              3.0     20.0              3.0       109.0            20.0   \n",
              "\n",
              "        Player_Id  Team_Id  Outcome  \n",
              "38438        20.0      3.0      1.0  \n",
              "38460        20.0      3.0      1.0  \n",
              "162276       20.0      3.0      1.0  \n",
              "162342       20.0      3.0      1.0  \n",
              "162386       20.0      3.0      1.0  "
            ]
          },
          "execution_count": 29,
          "metadata": {},
          "output_type": "execute_result"
        }
      ],
      "source": [
        "nonstriker.head()"
      ]
    },
    {
      "cell_type": "code",
      "execution_count": null,
      "metadata": {
        "colab": {
          "base_uri": "https://localhost:8080/"
        },
        "id": "SQEDoC3yCUli",
        "outputId": "a82957cc-6ee8-4fd5-8c55-7c134d48a846"
      },
      "outputs": [
        {
          "name": "stdout",
          "output_type": "stream",
          "text": [
            "<class 'pandas.core.frame.DataFrame'>\n",
            "Int64Index: 65 entries, 38394 to 1522843\n",
            "Data columns (total 8 columns):\n",
            " #   Column           Non-Null Count  Dtype  \n",
            "---  ------           --------------  -----  \n",
            " 0   Match_Winner_Id  65 non-null     float64\n",
            " 1   Over_Id          65 non-null     float64\n",
            " 2   Team_Batting_Id  65 non-null     float64\n",
            " 3   Striker_Id       65 non-null     float64\n",
            " 4   Non_Striker_Id   65 non-null     float64\n",
            " 5   Player_Id        65 non-null     float64\n",
            " 6   Team_Id          65 non-null     float64\n",
            " 7   Outcome          65 non-null     float64\n",
            "dtypes: float64(8)\n",
            "memory usage: 4.6 KB\n",
            "<class 'pandas.core.frame.DataFrame'>\n",
            "Int64Index: 53 entries, 38438 to 1496444\n",
            "Data columns (total 8 columns):\n",
            " #   Column           Non-Null Count  Dtype  \n",
            "---  ------           --------------  -----  \n",
            " 0   Match_Winner_Id  53 non-null     float64\n",
            " 1   Over_Id          53 non-null     float64\n",
            " 2   Team_Batting_Id  53 non-null     float64\n",
            " 3   Striker_Id       53 non-null     float64\n",
            " 4   Non_Striker_Id   53 non-null     float64\n",
            " 5   Player_Id        53 non-null     float64\n",
            " 6   Team_Id          53 non-null     float64\n",
            " 7   Outcome          53 non-null     float64\n",
            "dtypes: float64(8)\n",
            "memory usage: 3.7 KB\n"
          ]
        }
      ],
      "source": [
        "striker.info()\n",
        "nonstriker.info()"
      ]
    },
    {
      "cell_type": "markdown",
      "metadata": {
        "id": "G0vsYXIFC8rd"
      },
      "source": [
        "No of Winning Events when Dhoni on Striker end"
      ]
    },
    {
      "cell_type": "code",
      "execution_count": null,
      "metadata": {
        "colab": {
          "base_uri": "https://localhost:8080/"
        },
        "id": "JT6aSfS-Ctv5",
        "outputId": "63a18077-9dbc-42cb-8453-e9d4af677794"
      },
      "outputs": [
        {
          "data": {
            "text/plain": [
              "1.0    45\n",
              "0.0    20\n",
              "Name: Outcome, dtype: int64"
            ]
          },
          "execution_count": 31,
          "metadata": {},
          "output_type": "execute_result"
        }
      ],
      "source": [
        "striker['Outcome'].value_counts()"
      ]
    },
    {
      "cell_type": "markdown",
      "metadata": {
        "id": "hdh5S4BPDmbp"
      },
      "source": [
        "No.of Winning Events When Dhoni On Non-Striker end"
      ]
    },
    {
      "cell_type": "code",
      "execution_count": null,
      "metadata": {
        "colab": {
          "base_uri": "https://localhost:8080/"
        },
        "id": "7EiR3ff8Ddle",
        "outputId": "b56f6dd8-deb2-420f-8fe5-ae2f66247d1c"
      },
      "outputs": [
        {
          "data": {
            "text/plain": [
              "1.0    29\n",
              "0.0    24\n",
              "Name: Outcome, dtype: int64"
            ]
          },
          "execution_count": 32,
          "metadata": {},
          "output_type": "execute_result"
        }
      ],
      "source": [
        "nonstriker['Outcome'].value_counts()"
      ]
    },
    {
      "cell_type": "code",
      "execution_count": null,
      "metadata": {
        "id": "SHtiIUAwElsB"
      },
      "outputs": [],
      "source": [
        "striker=striker.drop(['Non_Striker_Id','Player_Id'],axis=1)# removing the non striker id from the dataset as our Outcome doesnt depend upon it"
      ]
    },
    {
      "cell_type": "code",
      "execution_count": null,
      "metadata": {
        "id": "Aqyu2AeeFl92"
      },
      "outputs": [],
      "source": [
        "nonstriker=nonstriker.drop(['Striker_Id','Player_Id'],axis=1)#removing the strikerId as the Outcome doesnot depend upon it"
      ]
    },
    {
      "cell_type": "markdown",
      "metadata": {
        "id": "Yky4tRbTGNbc"
      },
      "source": [
        "Now separate the all other attributes and Outcome of the datasets"
      ]
    },
    {
      "cell_type": "code",
      "execution_count": null,
      "metadata": {
        "id": "OOt_NODBDwQ7"
      },
      "outputs": [],
      "source": [
        "x1=striker.iloc[:,[0,3]].values\n",
        "y1=striker.iloc[:,5].values"
      ]
    },
    {
      "cell_type": "code",
      "execution_count": null,
      "metadata": {
        "id": "KT7UTVljICTQ"
      },
      "outputs": [],
      "source": [
        "x2=nonstriker.iloc[:,[0,3]].values\n",
        "y2=nonstriker.iloc[:,5].values"
      ]
    },
    {
      "cell_type": "code",
      "execution_count": null,
      "metadata": {
        "colab": {
          "base_uri": "https://localhost:8080/"
        },
        "id": "lrIRwdpPIR8K",
        "outputId": "0afa4e4f-9684-490b-e66e-629682932567"
      },
      "outputs": [
        {
          "name": "stdout",
          "output_type": "stream",
          "text": [
            "X1\n",
            " [[ 3. 20.]\n",
            " [ 3. 20.]\n",
            " [ 3. 20.]\n",
            " [ 3. 20.]\n",
            " [ 3. 20.]\n",
            " [ 3. 20.]\n",
            " [ 3. 20.]\n",
            " [ 3. 20.]\n",
            " [ 3. 20.]\n",
            " [ 3. 20.]\n",
            " [ 3. 20.]\n",
            " [ 7. 20.]\n",
            " [ 7. 20.]\n",
            " [ 5. 20.]\n",
            " [ 5. 20.]\n",
            " [ 5. 20.]\n",
            " [ 7. 20.]\n",
            " [ 7. 20.]\n",
            " [ 3. 20.]\n",
            " [ 3. 20.]\n",
            " [ 3. 20.]\n",
            " [ 3. 20.]\n",
            " [ 3. 20.]\n",
            " [ 3. 20.]\n",
            " [ 3. 20.]\n",
            " [ 1. 20.]\n",
            " [ 1. 20.]\n",
            " [ 3. 20.]\n",
            " [ 3. 20.]\n",
            " [ 3. 20.]\n",
            " [ 3. 20.]\n",
            " [ 3. 20.]\n",
            " [ 3. 20.]\n",
            " [ 3. 20.]\n",
            " [ 3. 20.]\n",
            " [ 4. 20.]\n",
            " [ 4. 20.]\n",
            " [ 4. 20.]\n",
            " [ 4. 20.]\n",
            " [ 3. 20.]\n",
            " [ 3. 20.]\n",
            " [ 3. 20.]\n",
            " [ 3. 20.]\n",
            " [ 3. 20.]\n",
            " [ 3. 20.]\n",
            " [ 3. 20.]\n",
            " [ 3. 20.]\n",
            " [ 3. 20.]\n",
            " [ 3. 20.]\n",
            " [ 3. 20.]\n",
            " [ 2. 20.]\n",
            " [ 2. 20.]\n",
            " [ 2. 20.]\n",
            " [ 2. 20.]\n",
            " [ 2. 20.]\n",
            " [ 2. 20.]\n",
            " [ 3. 20.]\n",
            " [ 3. 20.]\n",
            " [ 3. 20.]\n",
            " [ 3. 20.]\n",
            " [ 3. 20.]\n",
            " [ 3. 20.]\n",
            " [ 3. 20.]\n",
            " [ 1. 20.]\n",
            " [ 3. 20.]]\n",
            "Y1\n",
            " [1. 1. 1. 1. 1. 1. 1. 1. 1. 1. 1. 0. 0. 0. 0. 0. 0. 0. 1. 1. 1. 1. 1. 1.\n",
            " 1. 0. 0. 1. 1. 1. 1. 1. 1. 1. 1. 0. 0. 0. 0. 1. 1. 1. 1. 1. 1. 1. 1. 1.\n",
            " 1. 1. 0. 0. 0. 0. 0. 0. 1. 1. 1. 1. 1. 1. 1. 0. 1.]\n"
          ]
        }
      ],
      "source": [
        "print(\"X1\\n\",x1)\n",
        "print(\"Y1\\n\",y1)"
      ]
    },
    {
      "cell_type": "code",
      "execution_count": null,
      "metadata": {
        "colab": {
          "base_uri": "https://localhost:8080/"
        },
        "id": "rUMB5lL-I9VI",
        "outputId": "42e2cc22-b13d-4fcc-97f6-b1b131ed8508"
      },
      "outputs": [
        {
          "name": "stdout",
          "output_type": "stream",
          "text": [
            "X2\n",
            " [[ 3. 20.]\n",
            " [ 3. 20.]\n",
            " [ 3. 20.]\n",
            " [ 3. 20.]\n",
            " [ 3. 20.]\n",
            " [ 7. 20.]\n",
            " [ 7. 20.]\n",
            " [ 7. 20.]\n",
            " [ 7. 20.]\n",
            " [ 7. 20.]\n",
            " [ 7. 20.]\n",
            " [ 7. 20.]\n",
            " [ 5. 20.]\n",
            " [ 5. 20.]\n",
            " [ 5. 20.]\n",
            " [ 7. 20.]\n",
            " [ 7. 20.]\n",
            " [ 3. 20.]\n",
            " [ 3. 20.]\n",
            " [ 3. 20.]\n",
            " [ 3. 20.]\n",
            " [ 3. 20.]\n",
            " [ 3. 20.]\n",
            " [ 3. 20.]\n",
            " [ 3. 20.]\n",
            " [ 1. 20.]\n",
            " [ 1. 20.]\n",
            " [ 1. 20.]\n",
            " [ 1. 20.]\n",
            " [ 1. 20.]\n",
            " [ 3. 20.]\n",
            " [ 3. 20.]\n",
            " [ 3. 20.]\n",
            " [ 3. 20.]\n",
            " [ 3. 20.]\n",
            " [ 4. 20.]\n",
            " [ 4. 20.]\n",
            " [ 3. 20.]\n",
            " [ 3. 20.]\n",
            " [ 3. 20.]\n",
            " [ 3. 20.]\n",
            " [ 3. 20.]\n",
            " [ 3. 20.]\n",
            " [ 3. 20.]\n",
            " [ 3. 20.]\n",
            " [ 3. 20.]\n",
            " [ 3. 20.]\n",
            " [ 3. 20.]\n",
            " [ 1. 20.]\n",
            " [ 1. 20.]\n",
            " [ 1. 20.]\n",
            " [ 1. 20.]\n",
            " [ 1. 20.]]\n",
            "Y2\n",
            " [1. 1. 1. 1. 1. 0. 0. 0. 0. 0. 0. 0. 0. 0. 0. 0. 0. 1. 1. 1. 1. 1. 1. 1.\n",
            " 1. 0. 0. 0. 0. 0. 1. 1. 1. 1. 1. 0. 0. 1. 1. 1. 1. 1. 1. 1. 1. 1. 1. 1.\n",
            " 0. 0. 0. 0. 0.]\n"
          ]
        }
      ],
      "source": [
        "print(\"X2\\n\",x2)\n",
        "print(\"Y2\\n\",y2)"
      ]
    },
    {
      "cell_type": "markdown",
      "metadata": {
        "id": "CrIMIV4OJPXA"
      },
      "source": [
        "Splitting the data using train_test_split"
      ]
    },
    {
      "cell_type": "code",
      "execution_count": null,
      "metadata": {
        "id": "gFmJvKtZJYiq"
      },
      "outputs": [],
      "source": [
        "X1_train,X1_test,Y1_train,Y1_test=train_test_split(x1,y1,test_size=0.25,random_state=2)\n",
        "X2_train,X2_test,Y2_train,Y2_test=train_test_split(x2,y2,test_size=0.25,random_state=3)"
      ]
    },
    {
      "cell_type": "markdown",
      "metadata": {
        "id": "3bTYRgy-KleG"
      },
      "source": [
        "Strandardizing the data "
      ]
    },
    {
      "cell_type": "code",
      "execution_count": null,
      "metadata": {
        "id": "krig14ESKhnI"
      },
      "outputs": [],
      "source": [
        "sc=StandardScaler()\n",
        "X1_train=sc.fit_transform(X1_train)\n",
        "X1_test=sc.transform(X1_test)\n",
        "\n",
        "X2_train=sc.fit_transform(X2_train)\n",
        "X2_test=sc.transform(X2_test)"
      ]
    },
    {
      "cell_type": "code",
      "execution_count": null,
      "metadata": {
        "colab": {
          "base_uri": "https://localhost:8080/"
        },
        "id": "cz0-t7HXLqwO",
        "outputId": "6b3a39af-d016-4366-96e3-272dd5f7f97c"
      },
      "outputs": [
        {
          "data": {
            "text/plain": [
              "LogisticRegression(random_state=2)"
            ]
          },
          "execution_count": 41,
          "metadata": {},
          "output_type": "execute_result"
        }
      ],
      "source": [
        "classifier=LogisticRegression(random_state=2)\n",
        "classifier.fit(X1_train,Y1_train)"
      ]
    },
    {
      "cell_type": "code",
      "execution_count": null,
      "metadata": {
        "id": "yUrRiHruMOex"
      },
      "outputs": [],
      "source": [
        "y_predict=classifier.predict(X1_test)"
      ]
    },
    {
      "cell_type": "markdown",
      "metadata": {
        "id": "Fl27gOwIxIIq"
      },
      "source": [
        "Accuracy Score of Testing Data"
      ]
    },
    {
      "cell_type": "code",
      "execution_count": null,
      "metadata": {
        "colab": {
          "base_uri": "https://localhost:8080/"
        },
        "id": "RkjecTsMMb2m",
        "outputId": "e0d2aa79-9cea-48cc-8b07-58cde2d719c6"
      },
      "outputs": [
        {
          "name": "stdout",
          "output_type": "stream",
          "text": [
            "Accuracy Score for Striker dataset:  0.7647058823529411\n"
          ]
        }
      ],
      "source": [
        "print(\"Accuracy Score for testing data on Striker dataset: \",accuracy_score(Y1_test,y_predict))"
      ]
    },
    {
      "cell_type": "markdown",
      "metadata": {
        "id": "0kXhJPz9NCKH"
      },
      "source": [
        "For NonStriker "
      ]
    },
    {
      "cell_type": "code",
      "execution_count": null,
      "metadata": {
        "colab": {
          "base_uri": "https://localhost:8080/"
        },
        "id": "EgssT73_M80A",
        "outputId": "062660ae-d1dd-4404-8147-f4549bd678e5"
      },
      "outputs": [
        {
          "data": {
            "text/plain": [
              "LogisticRegression(random_state=2)"
            ]
          },
          "execution_count": 44,
          "metadata": {},
          "output_type": "execute_result"
        }
      ],
      "source": [
        "classifier=LogisticRegression(random_state=2)\n",
        "classifier.fit(X2_train,Y2_train)"
      ]
    },
    {
      "cell_type": "code",
      "execution_count": null,
      "metadata": {
        "id": "a8r6nh_iMxfu"
      },
      "outputs": [],
      "source": [
        "y1_predict=classifier.predict(X2_test)"
      ]
    },
    {
      "cell_type": "code",
      "execution_count": null,
      "metadata": {
        "colab": {
          "base_uri": "https://localhost:8080/"
        },
        "id": "ertiLRZLNuod",
        "outputId": "eeaca705-155c-400e-e546-8ecf6b2c6887"
      },
      "outputs": [
        {
          "name": "stdout",
          "output_type": "stream",
          "text": [
            "Accuracy Score for Non-Striker dataset 0.7142857142857143\n"
          ]
        }
      ],
      "source": [
        "print(\"Accuracy Score for testing data on Non-Striker dataset\",accuracy_score(Y2_test,y1_predict))"
      ]
    },
    {
      "cell_type": "markdown",
      "metadata": {
        "id": "XuzksrGaukao"
      },
      "source": [
        "Accuracy Score of Training data "
      ]
    },
    {
      "cell_type": "code",
      "execution_count": null,
      "metadata": {
        "colab": {
          "base_uri": "https://localhost:8080/"
        },
        "id": "LzxziZ0Yus0s",
        "outputId": "c47aabbe-5a8d-4594-c964-c95aaf04b775"
      },
      "outputs": [
        {
          "name": "stdout",
          "output_type": "stream",
          "text": [
            "Accuracy Score for Striker dataset:  0.8125\n"
          ]
        }
      ],
      "source": [
        "x_predict=classifier.predict(X1_train)\n",
        "print(\"Accuracy Score for training Data on Striker dataset : \",accuracy_score(Y1_train,x_predict))"
      ]
    },
    {
      "cell_type": "code",
      "execution_count": null,
      "metadata": {
        "colab": {
          "base_uri": "https://localhost:8080/"
        },
        "id": "hikp8clmwNbD",
        "outputId": "7195a7b8-f066-49ee-8396-f857f4672f32"
      },
      "outputs": [
        {
          "name": "stdout",
          "output_type": "stream",
          "text": [
            "Accuracy Score for training data on Non-Striker dataset:  0.7948717948717948\n"
          ]
        }
      ],
      "source": [
        "x1_predict=classifier.predict(X2_train)\n",
        "print(\"Accuracy Score for training data on Non-Striker dataset: \",accuracy_score(x1_predict,Y2_train))"
      ]
    },
    {
      "cell_type": "markdown",
      "metadata": {
        "id": "r0Sx72wI1f1n"
      },
      "source": [
        "USING NAIVE BAYES ALGORITHM"
      ]
    },
    {
      "cell_type": "code",
      "execution_count": 120,
      "metadata": {
        "colab": {
          "base_uri": "https://localhost:8080/",
          "height": 1000
        },
        "id": "eR5GkqZpPKsX",
        "outputId": "4b981770-bc47-44a4-d1f1-a133ad229aec"
      },
      "outputs": [
        {
          "data": {
            "text/html": [
              "\n",
              "  <div id=\"df-36a7110b-154d-45f9-a937-9b4ebe4fc725\">\n",
              "    <div class=\"colab-df-container\">\n",
              "      <div>\n",
              "<style scoped>\n",
              "    .dataframe tbody tr th:only-of-type {\n",
              "        vertical-align: middle;\n",
              "    }\n",
              "\n",
              "    .dataframe tbody tr th {\n",
              "        vertical-align: top;\n",
              "    }\n",
              "\n",
              "    .dataframe thead th {\n",
              "        text-align: right;\n",
              "    }\n",
              "</style>\n",
              "<table border=\"1\" class=\"dataframe\">\n",
              "  <thead>\n",
              "    <tr style=\"text-align: right;\">\n",
              "      <th></th>\n",
              "      <th>Match_Id</th>\n",
              "      <th>Match_Date</th>\n",
              "      <th>Team_Name_Id</th>\n",
              "      <th>Opponent_Team_Id</th>\n",
              "      <th>Season_Id</th>\n",
              "      <th>Venue_Name</th>\n",
              "      <th>Toss_Winner_Id</th>\n",
              "      <th>Toss_Decision</th>\n",
              "      <th>IS_Superover</th>\n",
              "      <th>IS_Result</th>\n",
              "      <th>...</th>\n",
              "      <th>Batsman_Scored</th>\n",
              "      <th>Extra_Type</th>\n",
              "      <th>Extra_Runs</th>\n",
              "      <th>Player_dissimal_Id</th>\n",
              "      <th>Dissimal_Type</th>\n",
              "      <th>Fielder_Id</th>\n",
              "      <th>Player_Id</th>\n",
              "      <th>Team_Id</th>\n",
              "      <th>Is_Keeper</th>\n",
              "      <th>Is_Captain</th>\n",
              "    </tr>\n",
              "  </thead>\n",
              "  <tbody>\n",
              "    <tr>\n",
              "      <th>7549</th>\n",
              "      <td>335988</td>\n",
              "      <td>19-Apr-08</td>\n",
              "      <td>4.0</td>\n",
              "      <td>3.0</td>\n",
              "      <td>1.0</td>\n",
              "      <td>Punjab Cricket Association Stadium, Mohali</td>\n",
              "      <td>3.0</td>\n",
              "      <td>bat</td>\n",
              "      <td>0.0</td>\n",
              "      <td>1.0</td>\n",
              "      <td>...</td>\n",
              "      <td>6</td>\n",
              "      <td></td>\n",
              "      <td></td>\n",
              "      <td></td>\n",
              "      <td></td>\n",
              "      <td></td>\n",
              "      <td>20.0</td>\n",
              "      <td>3.0</td>\n",
              "      <td>1.0</td>\n",
              "      <td>1.0</td>\n",
              "    </tr>\n",
              "    <tr>\n",
              "      <th>7571</th>\n",
              "      <td>335988</td>\n",
              "      <td>19-Apr-08</td>\n",
              "      <td>4.0</td>\n",
              "      <td>3.0</td>\n",
              "      <td>1.0</td>\n",
              "      <td>Punjab Cricket Association Stadium, Mohali</td>\n",
              "      <td>3.0</td>\n",
              "      <td>bat</td>\n",
              "      <td>0.0</td>\n",
              "      <td>1.0</td>\n",
              "      <td>...</td>\n",
              "      <td>6</td>\n",
              "      <td></td>\n",
              "      <td></td>\n",
              "      <td></td>\n",
              "      <td></td>\n",
              "      <td></td>\n",
              "      <td>20.0</td>\n",
              "      <td>3.0</td>\n",
              "      <td>1.0</td>\n",
              "      <td>1.0</td>\n",
              "    </tr>\n",
              "    <tr>\n",
              "      <th>7593</th>\n",
              "      <td>335988</td>\n",
              "      <td>19-Apr-08</td>\n",
              "      <td>4.0</td>\n",
              "      <td>3.0</td>\n",
              "      <td>1.0</td>\n",
              "      <td>Punjab Cricket Association Stadium, Mohali</td>\n",
              "      <td>3.0</td>\n",
              "      <td>bat</td>\n",
              "      <td>0.0</td>\n",
              "      <td>1.0</td>\n",
              "      <td>...</td>\n",
              "      <td>4</td>\n",
              "      <td></td>\n",
              "      <td></td>\n",
              "      <td></td>\n",
              "      <td></td>\n",
              "      <td></td>\n",
              "      <td>20.0</td>\n",
              "      <td>3.0</td>\n",
              "      <td>1.0</td>\n",
              "      <td>1.0</td>\n",
              "    </tr>\n",
              "    <tr>\n",
              "      <th>7615</th>\n",
              "      <td>335988</td>\n",
              "      <td>19-Apr-08</td>\n",
              "      <td>4.0</td>\n",
              "      <td>3.0</td>\n",
              "      <td>1.0</td>\n",
              "      <td>Punjab Cricket Association Stadium, Mohali</td>\n",
              "      <td>3.0</td>\n",
              "      <td>bat</td>\n",
              "      <td>0.0</td>\n",
              "      <td>1.0</td>\n",
              "      <td>...</td>\n",
              "      <td>1</td>\n",
              "      <td></td>\n",
              "      <td></td>\n",
              "      <td></td>\n",
              "      <td></td>\n",
              "      <td></td>\n",
              "      <td>20.0</td>\n",
              "      <td>3.0</td>\n",
              "      <td>1.0</td>\n",
              "      <td>1.0</td>\n",
              "    </tr>\n",
              "    <tr>\n",
              "      <th>7637</th>\n",
              "      <td>335988</td>\n",
              "      <td>19-Apr-08</td>\n",
              "      <td>4.0</td>\n",
              "      <td>3.0</td>\n",
              "      <td>1.0</td>\n",
              "      <td>Punjab Cricket Association Stadium, Mohali</td>\n",
              "      <td>3.0</td>\n",
              "      <td>bat</td>\n",
              "      <td>0.0</td>\n",
              "      <td>1.0</td>\n",
              "      <td>...</td>\n",
              "      <td>6</td>\n",
              "      <td></td>\n",
              "      <td></td>\n",
              "      <td></td>\n",
              "      <td></td>\n",
              "      <td></td>\n",
              "      <td>20.0</td>\n",
              "      <td>3.0</td>\n",
              "      <td>1.0</td>\n",
              "      <td>1.0</td>\n",
              "    </tr>\n",
              "    <tr>\n",
              "      <th>...</th>\n",
              "      <td>...</td>\n",
              "      <td>...</td>\n",
              "      <td>...</td>\n",
              "      <td>...</td>\n",
              "      <td>...</td>\n",
              "      <td>...</td>\n",
              "      <td>...</td>\n",
              "      <td>...</td>\n",
              "      <td>...</td>\n",
              "      <td>...</td>\n",
              "      <td>...</td>\n",
              "      <td>...</td>\n",
              "      <td>...</td>\n",
              "      <td>...</td>\n",
              "      <td>...</td>\n",
              "      <td>...</td>\n",
              "      <td>...</td>\n",
              "      <td>...</td>\n",
              "      <td>...</td>\n",
              "      <td>...</td>\n",
              "      <td>...</td>\n",
              "    </tr>\n",
              "    <tr>\n",
              "      <th>1587050</th>\n",
              "      <td>548369</td>\n",
              "      <td>12-May-12</td>\n",
              "      <td>3.0</td>\n",
              "      <td>6.0</td>\n",
              "      <td>5.0</td>\n",
              "      <td>MA Chidambaram Stadium, Chepauk</td>\n",
              "      <td>3.0</td>\n",
              "      <td>field</td>\n",
              "      <td>0.0</td>\n",
              "      <td>1.0</td>\n",
              "      <td>...</td>\n",
              "      <td>1.0</td>\n",
              "      <td></td>\n",
              "      <td></td>\n",
              "      <td></td>\n",
              "      <td></td>\n",
              "      <td></td>\n",
              "      <td>20.0</td>\n",
              "      <td>3.0</td>\n",
              "      <td>1.0</td>\n",
              "      <td>1.0</td>\n",
              "    </tr>\n",
              "    <tr>\n",
              "      <th>1587072</th>\n",
              "      <td>548369</td>\n",
              "      <td>12-May-12</td>\n",
              "      <td>3.0</td>\n",
              "      <td>6.0</td>\n",
              "      <td>5.0</td>\n",
              "      <td>MA Chidambaram Stadium, Chepauk</td>\n",
              "      <td>3.0</td>\n",
              "      <td>field</td>\n",
              "      <td>0.0</td>\n",
              "      <td>1.0</td>\n",
              "      <td>...</td>\n",
              "      <td>1.0</td>\n",
              "      <td></td>\n",
              "      <td></td>\n",
              "      <td></td>\n",
              "      <td></td>\n",
              "      <td></td>\n",
              "      <td>20.0</td>\n",
              "      <td>3.0</td>\n",
              "      <td>1.0</td>\n",
              "      <td>1.0</td>\n",
              "    </tr>\n",
              "    <tr>\n",
              "      <th>1587094</th>\n",
              "      <td>548369</td>\n",
              "      <td>12-May-12</td>\n",
              "      <td>3.0</td>\n",
              "      <td>6.0</td>\n",
              "      <td>5.0</td>\n",
              "      <td>MA Chidambaram Stadium, Chepauk</td>\n",
              "      <td>3.0</td>\n",
              "      <td>field</td>\n",
              "      <td>0.0</td>\n",
              "      <td>1.0</td>\n",
              "      <td>...</td>\n",
              "      <td>1.0</td>\n",
              "      <td></td>\n",
              "      <td></td>\n",
              "      <td></td>\n",
              "      <td></td>\n",
              "      <td></td>\n",
              "      <td>20.0</td>\n",
              "      <td>3.0</td>\n",
              "      <td>1.0</td>\n",
              "      <td>1.0</td>\n",
              "    </tr>\n",
              "    <tr>\n",
              "      <th>1587116</th>\n",
              "      <td>548369</td>\n",
              "      <td>12-May-12</td>\n",
              "      <td>3.0</td>\n",
              "      <td>6.0</td>\n",
              "      <td>5.0</td>\n",
              "      <td>MA Chidambaram Stadium, Chepauk</td>\n",
              "      <td>3.0</td>\n",
              "      <td>field</td>\n",
              "      <td>0.0</td>\n",
              "      <td>1.0</td>\n",
              "      <td>...</td>\n",
              "      <td>2.0</td>\n",
              "      <td></td>\n",
              "      <td></td>\n",
              "      <td></td>\n",
              "      <td></td>\n",
              "      <td></td>\n",
              "      <td>20.0</td>\n",
              "      <td>3.0</td>\n",
              "      <td>1.0</td>\n",
              "      <td>1.0</td>\n",
              "    </tr>\n",
              "    <tr>\n",
              "      <th>1587138</th>\n",
              "      <td>548369</td>\n",
              "      <td>12-May-12</td>\n",
              "      <td>3.0</td>\n",
              "      <td>6.0</td>\n",
              "      <td>5.0</td>\n",
              "      <td>MA Chidambaram Stadium, Chepauk</td>\n",
              "      <td>3.0</td>\n",
              "      <td>field</td>\n",
              "      <td>0.0</td>\n",
              "      <td>1.0</td>\n",
              "      <td>...</td>\n",
              "      <td>0.0</td>\n",
              "      <td></td>\n",
              "      <td></td>\n",
              "      <td></td>\n",
              "      <td></td>\n",
              "      <td></td>\n",
              "      <td>20.0</td>\n",
              "      <td>3.0</td>\n",
              "      <td>1.0</td>\n",
              "      <td>1.0</td>\n",
              "    </tr>\n",
              "  </tbody>\n",
              "</table>\n",
              "<p>670 rows × 38 columns</p>\n",
              "</div>\n",
              "      <button class=\"colab-df-convert\" onclick=\"convertToInteractive('df-36a7110b-154d-45f9-a937-9b4ebe4fc725')\"\n",
              "              title=\"Convert this dataframe to an interactive table.\"\n",
              "              style=\"display:none;\">\n",
              "        \n",
              "  <svg xmlns=\"http://www.w3.org/2000/svg\" height=\"24px\"viewBox=\"0 0 24 24\"\n",
              "       width=\"24px\">\n",
              "    <path d=\"M0 0h24v24H0V0z\" fill=\"none\"/>\n",
              "    <path d=\"M18.56 5.44l.94 2.06.94-2.06 2.06-.94-2.06-.94-.94-2.06-.94 2.06-2.06.94zm-11 1L8.5 8.5l.94-2.06 2.06-.94-2.06-.94L8.5 2.5l-.94 2.06-2.06.94zm10 10l.94 2.06.94-2.06 2.06-.94-2.06-.94-.94-2.06-.94 2.06-2.06.94z\"/><path d=\"M17.41 7.96l-1.37-1.37c-.4-.4-.92-.59-1.43-.59-.52 0-1.04.2-1.43.59L10.3 9.45l-7.72 7.72c-.78.78-.78 2.05 0 2.83L4 21.41c.39.39.9.59 1.41.59.51 0 1.02-.2 1.41-.59l7.78-7.78 2.81-2.81c.8-.78.8-2.07 0-2.86zM5.41 20L4 18.59l7.72-7.72 1.47 1.35L5.41 20z\"/>\n",
              "  </svg>\n",
              "      </button>\n",
              "      \n",
              "  <style>\n",
              "    .colab-df-container {\n",
              "      display:flex;\n",
              "      flex-wrap:wrap;\n",
              "      gap: 12px;\n",
              "    }\n",
              "\n",
              "    .colab-df-convert {\n",
              "      background-color: #E8F0FE;\n",
              "      border: none;\n",
              "      border-radius: 50%;\n",
              "      cursor: pointer;\n",
              "      display: none;\n",
              "      fill: #1967D2;\n",
              "      height: 32px;\n",
              "      padding: 0 0 0 0;\n",
              "      width: 32px;\n",
              "    }\n",
              "\n",
              "    .colab-df-convert:hover {\n",
              "      background-color: #E2EBFA;\n",
              "      box-shadow: 0px 1px 2px rgba(60, 64, 67, 0.3), 0px 1px 3px 1px rgba(60, 64, 67, 0.15);\n",
              "      fill: #174EA6;\n",
              "    }\n",
              "\n",
              "    [theme=dark] .colab-df-convert {\n",
              "      background-color: #3B4455;\n",
              "      fill: #D2E3FC;\n",
              "    }\n",
              "\n",
              "    [theme=dark] .colab-df-convert:hover {\n",
              "      background-color: #434B5C;\n",
              "      box-shadow: 0px 1px 3px 1px rgba(0, 0, 0, 0.15);\n",
              "      filter: drop-shadow(0px 1px 2px rgba(0, 0, 0, 0.3));\n",
              "      fill: #FFFFFF;\n",
              "    }\n",
              "  </style>\n",
              "\n",
              "      <script>\n",
              "        const buttonEl =\n",
              "          document.querySelector('#df-36a7110b-154d-45f9-a937-9b4ebe4fc725 button.colab-df-convert');\n",
              "        buttonEl.style.display =\n",
              "          google.colab.kernel.accessAllowed ? 'block' : 'none';\n",
              "\n",
              "        async function convertToInteractive(key) {\n",
              "          const element = document.querySelector('#df-36a7110b-154d-45f9-a937-9b4ebe4fc725');\n",
              "          const dataTable =\n",
              "            await google.colab.kernel.invokeFunction('convertToInteractive',\n",
              "                                                     [key], {});\n",
              "          if (!dataTable) return;\n",
              "\n",
              "          const docLinkHtml = 'Like what you see? Visit the ' +\n",
              "            '<a target=\"_blank\" href=https://colab.research.google.com/notebooks/data_table.ipynb>data table notebook</a>'\n",
              "            + ' to learn more about interactive tables.';\n",
              "          element.innerHTML = '';\n",
              "          dataTable['output_type'] = 'display_data';\n",
              "          await google.colab.output.renderOutput(dataTable, element);\n",
              "          const docLink = document.createElement('div');\n",
              "          docLink.innerHTML = docLinkHtml;\n",
              "          element.appendChild(docLink);\n",
              "        }\n",
              "      </script>\n",
              "    </div>\n",
              "  </div>\n",
              "  "
            ],
            "text/plain": [
              "         Match_Id Match_Date  Team_Name_Id  Opponent_Team_Id  Season_Id  \\\n",
              "7549       335988  19-Apr-08           4.0               3.0        1.0   \n",
              "7571       335988  19-Apr-08           4.0               3.0        1.0   \n",
              "7593       335988  19-Apr-08           4.0               3.0        1.0   \n",
              "7615       335988  19-Apr-08           4.0               3.0        1.0   \n",
              "7637       335988  19-Apr-08           4.0               3.0        1.0   \n",
              "...           ...        ...           ...               ...        ...   \n",
              "1587050    548369  12-May-12           3.0               6.0        5.0   \n",
              "1587072    548369  12-May-12           3.0               6.0        5.0   \n",
              "1587094    548369  12-May-12           3.0               6.0        5.0   \n",
              "1587116    548369  12-May-12           3.0               6.0        5.0   \n",
              "1587138    548369  12-May-12           3.0               6.0        5.0   \n",
              "\n",
              "                                         Venue_Name  Toss_Winner_Id  \\\n",
              "7549     Punjab Cricket Association Stadium, Mohali             3.0   \n",
              "7571     Punjab Cricket Association Stadium, Mohali             3.0   \n",
              "7593     Punjab Cricket Association Stadium, Mohali             3.0   \n",
              "7615     Punjab Cricket Association Stadium, Mohali             3.0   \n",
              "7637     Punjab Cricket Association Stadium, Mohali             3.0   \n",
              "...                                             ...             ...   \n",
              "1587050             MA Chidambaram Stadium, Chepauk             3.0   \n",
              "1587072             MA Chidambaram Stadium, Chepauk             3.0   \n",
              "1587094             MA Chidambaram Stadium, Chepauk             3.0   \n",
              "1587116             MA Chidambaram Stadium, Chepauk             3.0   \n",
              "1587138             MA Chidambaram Stadium, Chepauk             3.0   \n",
              "\n",
              "        Toss_Decision  IS_Superover  IS_Result  ...  Batsman_Scored  \\\n",
              "7549              bat           0.0        1.0  ...               6   \n",
              "7571              bat           0.0        1.0  ...               6   \n",
              "7593              bat           0.0        1.0  ...               4   \n",
              "7615              bat           0.0        1.0  ...               1   \n",
              "7637              bat           0.0        1.0  ...               6   \n",
              "...               ...           ...        ...  ...             ...   \n",
              "1587050         field           0.0        1.0  ...             1.0   \n",
              "1587072         field           0.0        1.0  ...             1.0   \n",
              "1587094         field           0.0        1.0  ...             1.0   \n",
              "1587116         field           0.0        1.0  ...             2.0   \n",
              "1587138         field           0.0        1.0  ...             0.0   \n",
              "\n",
              "        Extra_Type  Extra_Runs  Player_dissimal_Id  Dissimal_Type  Fielder_Id  \\\n",
              "7549                                                                            \n",
              "7571                                                                            \n",
              "7593                                                                            \n",
              "7615                                                                            \n",
              "7637                                                                            \n",
              "...            ...         ...                 ...            ...         ...   \n",
              "1587050                                                                         \n",
              "1587072                                                                         \n",
              "1587094                                                                         \n",
              "1587116                                                                         \n",
              "1587138                                                                         \n",
              "\n",
              "         Player_Id Team_Id Is_Keeper  Is_Captain  \n",
              "7549          20.0     3.0       1.0         1.0  \n",
              "7571          20.0     3.0       1.0         1.0  \n",
              "7593          20.0     3.0       1.0         1.0  \n",
              "7615          20.0     3.0       1.0         1.0  \n",
              "7637          20.0     3.0       1.0         1.0  \n",
              "...            ...     ...       ...         ...  \n",
              "1587050       20.0     3.0       1.0         1.0  \n",
              "1587072       20.0     3.0       1.0         1.0  \n",
              "1587094       20.0     3.0       1.0         1.0  \n",
              "1587116       20.0     3.0       1.0         1.0  \n",
              "1587138       20.0     3.0       1.0         1.0  \n",
              "\n",
              "[670 rows x 38 columns]"
            ]
          },
          "execution_count": 120,
          "metadata": {},
          "output_type": "execute_result"
        }
      ],
      "source": [
        "mask=final['Over_Id']==20\n",
        "bayes=final[mask]\n",
        "bayes"
      ]
    },
    {
      "cell_type": "code",
      "execution_count": 129,
      "metadata": {
        "id": "BkngfGobFCUz"
      },
      "outputs": [],
      "source": [
        "bayes=final.drop(['Innings_Id','Ball_Id','Team_Bowling_Id','Striker_Batting_Position','Bowler_Id','Batsman_Scored','Match_Date','Opponent_Team_Id','Season_Id','Fielder_Id','Venue_Name','Toss_Winner_Id',\"Toss_Decision\",'IS_Superover','IS_Result','Is_DuckWorthLewis','Win_Type','Won_By','Man_Of_The_Match_Id','First_Umpire_Id','Second_Umpire_Id','City_Name','Host_Country','Is_Keeper','Is_Captain','Extra_Type','Extra_Runs','Player_dissimal_Id','Dissimal_Type','Team_Name_Id'],axis=1)"
      ]
    },
    {
      "cell_type": "code",
      "execution_count": 130,
      "metadata": {
        "colab": {
          "base_uri": "https://localhost:8080/",
          "height": 423
        },
        "id": "iY4lgWBPFWCD",
        "outputId": "19790dcc-24cb-46d1-8b7c-5807cb77b33e"
      },
      "outputs": [
        {
          "data": {
            "text/html": [
              "\n",
              "  <div id=\"df-1b918bd9-df65-46c0-b2bb-2182a6d51b27\">\n",
              "    <div class=\"colab-df-container\">\n",
              "      <div>\n",
              "<style scoped>\n",
              "    .dataframe tbody tr th:only-of-type {\n",
              "        vertical-align: middle;\n",
              "    }\n",
              "\n",
              "    .dataframe tbody tr th {\n",
              "        vertical-align: top;\n",
              "    }\n",
              "\n",
              "    .dataframe thead th {\n",
              "        text-align: right;\n",
              "    }\n",
              "</style>\n",
              "<table border=\"1\" class=\"dataframe\">\n",
              "  <thead>\n",
              "    <tr style=\"text-align: right;\">\n",
              "      <th></th>\n",
              "      <th>Match_Id</th>\n",
              "      <th>Match_Winner_Id</th>\n",
              "      <th>Over_Id</th>\n",
              "      <th>Team_Batting_Id</th>\n",
              "      <th>Striker_Id</th>\n",
              "      <th>Non_Striker_Id</th>\n",
              "      <th>Player_Id</th>\n",
              "      <th>Team_Id</th>\n",
              "    </tr>\n",
              "  </thead>\n",
              "  <tbody>\n",
              "    <tr>\n",
              "      <th>4953</th>\n",
              "      <td>335988</td>\n",
              "      <td>3.0</td>\n",
              "      <td>1.0</td>\n",
              "      <td>3.0</td>\n",
              "      <td>17.0</td>\n",
              "      <td>18.0</td>\n",
              "      <td>20.0</td>\n",
              "      <td>3.0</td>\n",
              "    </tr>\n",
              "    <tr>\n",
              "      <th>4975</th>\n",
              "      <td>335988</td>\n",
              "      <td>3.0</td>\n",
              "      <td>1.0</td>\n",
              "      <td>3.0</td>\n",
              "      <td>17.0</td>\n",
              "      <td>18.0</td>\n",
              "      <td>20.0</td>\n",
              "      <td>3.0</td>\n",
              "    </tr>\n",
              "    <tr>\n",
              "      <th>4997</th>\n",
              "      <td>335988</td>\n",
              "      <td>3.0</td>\n",
              "      <td>1.0</td>\n",
              "      <td>3.0</td>\n",
              "      <td>17.0</td>\n",
              "      <td>18.0</td>\n",
              "      <td>20.0</td>\n",
              "      <td>3.0</td>\n",
              "    </tr>\n",
              "    <tr>\n",
              "      <th>5019</th>\n",
              "      <td>335988</td>\n",
              "      <td>3.0</td>\n",
              "      <td>1.0</td>\n",
              "      <td>3.0</td>\n",
              "      <td>18.0</td>\n",
              "      <td>17.0</td>\n",
              "      <td>20.0</td>\n",
              "      <td>3.0</td>\n",
              "    </tr>\n",
              "    <tr>\n",
              "      <th>5041</th>\n",
              "      <td>335988</td>\n",
              "      <td>3.0</td>\n",
              "      <td>1.0</td>\n",
              "      <td>3.0</td>\n",
              "      <td>18.0</td>\n",
              "      <td>17.0</td>\n",
              "      <td>20.0</td>\n",
              "      <td>3.0</td>\n",
              "    </tr>\n",
              "    <tr>\n",
              "      <th>...</th>\n",
              "      <td>...</td>\n",
              "      <td>...</td>\n",
              "      <td>...</td>\n",
              "      <td>...</td>\n",
              "      <td>...</td>\n",
              "      <td>...</td>\n",
              "      <td>...</td>\n",
              "      <td>...</td>\n",
              "    </tr>\n",
              "    <tr>\n",
              "      <th>1604024</th>\n",
              "      <td>829806</td>\n",
              "      <td>6.0</td>\n",
              "      <td>NaN</td>\n",
              "      <td>NaN</td>\n",
              "      <td>NaN</td>\n",
              "      <td>NaN</td>\n",
              "      <td>20.0</td>\n",
              "      <td>3.0</td>\n",
              "    </tr>\n",
              "    <tr>\n",
              "      <th>1604121</th>\n",
              "      <td>829814</td>\n",
              "      <td>3.0</td>\n",
              "      <td>NaN</td>\n",
              "      <td>NaN</td>\n",
              "      <td>NaN</td>\n",
              "      <td>NaN</td>\n",
              "      <td>20.0</td>\n",
              "      <td>3.0</td>\n",
              "    </tr>\n",
              "    <tr>\n",
              "      <th>1604208</th>\n",
              "      <td>829822</td>\n",
              "      <td>7.0</td>\n",
              "      <td>NaN</td>\n",
              "      <td>NaN</td>\n",
              "      <td>NaN</td>\n",
              "      <td>NaN</td>\n",
              "      <td>20.0</td>\n",
              "      <td>3.0</td>\n",
              "    </tr>\n",
              "    <tr>\n",
              "      <th>1604254</th>\n",
              "      <td>829826</td>\n",
              "      <td>3.0</td>\n",
              "      <td>NaN</td>\n",
              "      <td>NaN</td>\n",
              "      <td>NaN</td>\n",
              "      <td>NaN</td>\n",
              "      <td>20.0</td>\n",
              "      <td>3.0</td>\n",
              "    </tr>\n",
              "    <tr>\n",
              "      <th>1604272</th>\n",
              "      <td>829828</td>\n",
              "      <td>7.0</td>\n",
              "      <td>NaN</td>\n",
              "      <td>NaN</td>\n",
              "      <td>NaN</td>\n",
              "      <td>NaN</td>\n",
              "      <td>20.0</td>\n",
              "      <td>3.0</td>\n",
              "    </tr>\n",
              "  </tbody>\n",
              "</table>\n",
              "<p>17266 rows × 8 columns</p>\n",
              "</div>\n",
              "      <button class=\"colab-df-convert\" onclick=\"convertToInteractive('df-1b918bd9-df65-46c0-b2bb-2182a6d51b27')\"\n",
              "              title=\"Convert this dataframe to an interactive table.\"\n",
              "              style=\"display:none;\">\n",
              "        \n",
              "  <svg xmlns=\"http://www.w3.org/2000/svg\" height=\"24px\"viewBox=\"0 0 24 24\"\n",
              "       width=\"24px\">\n",
              "    <path d=\"M0 0h24v24H0V0z\" fill=\"none\"/>\n",
              "    <path d=\"M18.56 5.44l.94 2.06.94-2.06 2.06-.94-2.06-.94-.94-2.06-.94 2.06-2.06.94zm-11 1L8.5 8.5l.94-2.06 2.06-.94-2.06-.94L8.5 2.5l-.94 2.06-2.06.94zm10 10l.94 2.06.94-2.06 2.06-.94-2.06-.94-.94-2.06-.94 2.06-2.06.94z\"/><path d=\"M17.41 7.96l-1.37-1.37c-.4-.4-.92-.59-1.43-.59-.52 0-1.04.2-1.43.59L10.3 9.45l-7.72 7.72c-.78.78-.78 2.05 0 2.83L4 21.41c.39.39.9.59 1.41.59.51 0 1.02-.2 1.41-.59l7.78-7.78 2.81-2.81c.8-.78.8-2.07 0-2.86zM5.41 20L4 18.59l7.72-7.72 1.47 1.35L5.41 20z\"/>\n",
              "  </svg>\n",
              "      </button>\n",
              "      \n",
              "  <style>\n",
              "    .colab-df-container {\n",
              "      display:flex;\n",
              "      flex-wrap:wrap;\n",
              "      gap: 12px;\n",
              "    }\n",
              "\n",
              "    .colab-df-convert {\n",
              "      background-color: #E8F0FE;\n",
              "      border: none;\n",
              "      border-radius: 50%;\n",
              "      cursor: pointer;\n",
              "      display: none;\n",
              "      fill: #1967D2;\n",
              "      height: 32px;\n",
              "      padding: 0 0 0 0;\n",
              "      width: 32px;\n",
              "    }\n",
              "\n",
              "    .colab-df-convert:hover {\n",
              "      background-color: #E2EBFA;\n",
              "      box-shadow: 0px 1px 2px rgba(60, 64, 67, 0.3), 0px 1px 3px 1px rgba(60, 64, 67, 0.15);\n",
              "      fill: #174EA6;\n",
              "    }\n",
              "\n",
              "    [theme=dark] .colab-df-convert {\n",
              "      background-color: #3B4455;\n",
              "      fill: #D2E3FC;\n",
              "    }\n",
              "\n",
              "    [theme=dark] .colab-df-convert:hover {\n",
              "      background-color: #434B5C;\n",
              "      box-shadow: 0px 1px 3px 1px rgba(0, 0, 0, 0.15);\n",
              "      filter: drop-shadow(0px 1px 2px rgba(0, 0, 0, 0.3));\n",
              "      fill: #FFFFFF;\n",
              "    }\n",
              "  </style>\n",
              "\n",
              "      <script>\n",
              "        const buttonEl =\n",
              "          document.querySelector('#df-1b918bd9-df65-46c0-b2bb-2182a6d51b27 button.colab-df-convert');\n",
              "        buttonEl.style.display =\n",
              "          google.colab.kernel.accessAllowed ? 'block' : 'none';\n",
              "\n",
              "        async function convertToInteractive(key) {\n",
              "          const element = document.querySelector('#df-1b918bd9-df65-46c0-b2bb-2182a6d51b27');\n",
              "          const dataTable =\n",
              "            await google.colab.kernel.invokeFunction('convertToInteractive',\n",
              "                                                     [key], {});\n",
              "          if (!dataTable) return;\n",
              "\n",
              "          const docLinkHtml = 'Like what you see? Visit the ' +\n",
              "            '<a target=\"_blank\" href=https://colab.research.google.com/notebooks/data_table.ipynb>data table notebook</a>'\n",
              "            + ' to learn more about interactive tables.';\n",
              "          element.innerHTML = '';\n",
              "          dataTable['output_type'] = 'display_data';\n",
              "          await google.colab.output.renderOutput(dataTable, element);\n",
              "          const docLink = document.createElement('div');\n",
              "          docLink.innerHTML = docLinkHtml;\n",
              "          element.appendChild(docLink);\n",
              "        }\n",
              "      </script>\n",
              "    </div>\n",
              "  </div>\n",
              "  "
            ],
            "text/plain": [
              "         Match_Id  Match_Winner_Id  Over_Id  Team_Batting_Id  Striker_Id  \\\n",
              "4953       335988              3.0      1.0              3.0        17.0   \n",
              "4975       335988              3.0      1.0              3.0        17.0   \n",
              "4997       335988              3.0      1.0              3.0        17.0   \n",
              "5019       335988              3.0      1.0              3.0        18.0   \n",
              "5041       335988              3.0      1.0              3.0        18.0   \n",
              "...           ...              ...      ...              ...         ...   \n",
              "1604024    829806              6.0      NaN              NaN         NaN   \n",
              "1604121    829814              3.0      NaN              NaN         NaN   \n",
              "1604208    829822              7.0      NaN              NaN         NaN   \n",
              "1604254    829826              3.0      NaN              NaN         NaN   \n",
              "1604272    829828              7.0      NaN              NaN         NaN   \n",
              "\n",
              "         Non_Striker_Id  Player_Id  Team_Id  \n",
              "4953               18.0       20.0      3.0  \n",
              "4975               18.0       20.0      3.0  \n",
              "4997               18.0       20.0      3.0  \n",
              "5019               17.0       20.0      3.0  \n",
              "5041               17.0       20.0      3.0  \n",
              "...                 ...        ...      ...  \n",
              "1604024             NaN       20.0      3.0  \n",
              "1604121             NaN       20.0      3.0  \n",
              "1604208             NaN       20.0      3.0  \n",
              "1604254             NaN       20.0      3.0  \n",
              "1604272             NaN       20.0      3.0  \n",
              "\n",
              "[17266 rows x 8 columns]"
            ]
          },
          "execution_count": 130,
          "metadata": {},
          "output_type": "execute_result"
        }
      ],
      "source": [
        "bayes"
      ]
    },
    {
      "cell_type": "code",
      "execution_count": 131,
      "metadata": {
        "colab": {
          "base_uri": "https://localhost:8080/"
        },
        "id": "1orrWC8XFcHE",
        "outputId": "da8f7ddf-a6fc-451b-b53d-b101ab9b38a8"
      },
      "outputs": [
        {
          "name": "stdout",
          "output_type": "stream",
          "text": [
            "         Match_Id  Match_Winner_Id  Over_Id  Team_Batting_Id  Striker_Id  \\\n",
            "4953       335988              3.0      1.0              3.0        17.0   \n",
            "4975       335988              3.0      1.0              3.0        17.0   \n",
            "4997       335988              3.0      1.0              3.0        17.0   \n",
            "5019       335988              3.0      1.0              3.0        18.0   \n",
            "5041       335988              3.0      1.0              3.0        18.0   \n",
            "...           ...              ...      ...              ...         ...   \n",
            "1604024    829806              6.0      NaN              NaN         NaN   \n",
            "1604121    829814              3.0      NaN              NaN         NaN   \n",
            "1604208    829822              7.0      NaN              NaN         NaN   \n",
            "1604254    829826              3.0      NaN              NaN         NaN   \n",
            "1604272    829828              7.0      NaN              NaN         NaN   \n",
            "\n",
            "         Non_Striker_Id  Player_Id  Team_Id  Outcome  \n",
            "4953               18.0       20.0      3.0      1.0  \n",
            "4975               18.0       20.0      3.0      1.0  \n",
            "4997               18.0       20.0      3.0      1.0  \n",
            "5019               17.0       20.0      3.0      1.0  \n",
            "5041               17.0       20.0      3.0      1.0  \n",
            "...                 ...        ...      ...      ...  \n",
            "1604024             NaN       20.0      3.0      0.0  \n",
            "1604121             NaN       20.0      3.0      1.0  \n",
            "1604208             NaN       20.0      3.0      0.0  \n",
            "1604254             NaN       20.0      3.0      1.0  \n",
            "1604272             NaN       20.0      3.0      0.0  \n",
            "\n",
            "[17266 rows x 9 columns]\n"
          ]
        }
      ],
      "source": [
        "bayes.loc[bayes['Match_Winner_Id']==3.0,'Outcome']=1\n",
        "bayes.loc[bayes['Match_Winner_Id']!=3.0,'Outcome']=0\n",
        "print(bayes)"
      ]
    },
    {
      "cell_type": "code",
      "execution_count": 132,
      "metadata": {
        "colab": {
          "base_uri": "https://localhost:8080/"
        },
        "id": "KeAJokm4GNxU",
        "outputId": "81598283-b836-46de-a47e-2e4f785ddbd5"
      },
      "outputs": [
        {
          "name": "stdout",
          "output_type": "stream",
          "text": [
            "        Match_Id  Match_Winner_Id_x  Over_Id_x  Team_Batting_Id_x  \\\n",
            "0         335988                3.0        7.0                3.0   \n",
            "1         335988                3.0        7.0                3.0   \n",
            "2         335988                3.0        7.0                3.0   \n",
            "3         335988                3.0        7.0                3.0   \n",
            "4         335988                3.0        7.0                3.0   \n",
            "...          ...                ...        ...                ...   \n",
            "125922    548366                3.0       16.0                3.0   \n",
            "125923    548366                3.0       16.0                3.0   \n",
            "125924    548366                3.0       16.0                3.0   \n",
            "125925    548366                3.0       16.0                3.0   \n",
            "125926    548366                3.0       16.0                3.0   \n",
            "\n",
            "        Striker_Id_x  Non_Striker_Id_x  Player_Id_x  Team_Id_x  Outcome_x  \\\n",
            "0               20.0               0.0         20.0        3.0        1.0   \n",
            "1               20.0               0.0         20.0        3.0        1.0   \n",
            "2               20.0               0.0         20.0        3.0        1.0   \n",
            "3               20.0               0.0         20.0        3.0        1.0   \n",
            "4               20.0               0.0         20.0        3.0        1.0   \n",
            "...              ...               ...          ...        ...        ...   \n",
            "125922          20.0               0.0         20.0        3.0        1.0   \n",
            "125923          20.0               0.0         20.0        3.0        1.0   \n",
            "125924          20.0               0.0         20.0        3.0        1.0   \n",
            "125925          20.0               0.0         20.0        3.0        1.0   \n",
            "125926          20.0               0.0         20.0        3.0        1.0   \n",
            "\n",
            "        Match_Winner_Id_y  Over_Id_y  Team_Batting_Id_y  Striker_Id_y  \\\n",
            "0                     3.0        1.0                3.0           0.0   \n",
            "1                     3.0        1.0                3.0           0.0   \n",
            "2                     3.0        1.0                3.0           0.0   \n",
            "3                     3.0        1.0                3.0           0.0   \n",
            "4                     3.0        1.0                3.0           0.0   \n",
            "...                   ...        ...                ...           ...   \n",
            "125922                3.0       18.0                3.0           0.0   \n",
            "125923                3.0       18.0                3.0           0.0   \n",
            "125924                3.0       19.0                3.0           0.0   \n",
            "125925                3.0       19.0                3.0           0.0   \n",
            "125926                3.0       19.0                3.0           0.0   \n",
            "\n",
            "        Non_Striker_Id_y  Player_Id_y  Team_Id_y  Outcome_y  \n",
            "0                    0.0         20.0        3.0        1.0  \n",
            "1                    0.0         20.0        3.0        1.0  \n",
            "2                    0.0         20.0        3.0        1.0  \n",
            "3                    0.0         20.0        3.0        1.0  \n",
            "4                    0.0         20.0        3.0        1.0  \n",
            "...                  ...          ...        ...        ...  \n",
            "125922               0.0         20.0        3.0        1.0  \n",
            "125923               0.0         20.0        3.0        1.0  \n",
            "125924               0.0         20.0        3.0        1.0  \n",
            "125925               0.0         20.0        3.0        1.0  \n",
            "125926               0.0         20.0        3.0        1.0  \n",
            "\n",
            "[125927 rows x 17 columns]\n"
          ]
        },
        {
          "name": "stderr",
          "output_type": "stream",
          "text": [
            "/usr/local/lib/python3.7/dist-packages/pandas/core/indexing.py:1817: SettingWithCopyWarning: \n",
            "A value is trying to be set on a copy of a slice from a DataFrame.\n",
            "Try using .loc[row_indexer,col_indexer] = value instead\n",
            "\n",
            "See the caveats in the documentation: https://pandas.pydata.org/pandas-docs/stable/user_guide/indexing.html#returning-a-view-versus-a-copy\n",
            "  self._setitem_single_column(loc, value, pi)\n"
          ]
        }
      ],
      "source": [
        "mask1=bayes['Team_Batting_Id']==3.0\n",
        "bayes=bayes[mask1]\n",
        "bayes.loc[bayes['Striker_Id']==20.0,'Striker_Id']=20.0\n",
        "bayes.loc[bayes['Striker_Id']!=20.0,'Striker_Id']=0\n",
        "bayes.loc[bayes['Non_Striker_Id']==20.0,'Non_Striker_Id']=20.0\n",
        "bayes.loc[bayes['Non_Striker_Id']!=20.0,'Non_Striker_Id']=0\n",
        "bayes1 = bayes [bayes.Striker_Id == 20] \n",
        "bayes2= bayes[bayes.Non_Striker_Id !=20]\n",
        "bayes=pd.merge(bayes1,bayes2,on='Match_Id',how='left')\n",
        "print(bayes)"
      ]
    },
    {
      "cell_type": "code",
      "execution_count": 133,
      "metadata": {
        "colab": {
          "base_uri": "https://localhost:8080/"
        },
        "id": "Uis95Z20H2v-",
        "outputId": "4b34c3b6-08aa-4690-dd5b-e889c47fea9f"
      },
      "outputs": [
        {
          "data": {
            "text/plain": [
              "array([[20.,  0.],\n",
              "       [20.,  0.],\n",
              "       [20.,  0.],\n",
              "       ...,\n",
              "       [20.,  0.],\n",
              "       [20.,  0.],\n",
              "       [20.,  0.]])"
            ]
          },
          "execution_count": 133,
          "metadata": {},
          "output_type": "execute_result"
        }
      ],
      "source": [
        "bayes=bayes.drop(['Match_Winner_Id_y','Over_Id_y','Team_Batting_Id_y','Striker_Id_y','Non_Striker_Id_y','Player_Id_y','Team_Id_y','Outcome_y'],axis=1)\n",
        "x1=bayes.iloc[:,[4,5]].values\n",
        "y1=bayes.iloc[:,8].values\n",
        "x1\n",
        "\n"
      ]
    },
    {
      "cell_type": "code",
      "execution_count": 135,
      "metadata": {
        "colab": {
          "base_uri": "https://localhost:8080/",
          "height": 423
        },
        "id": "hfB6GZVfTsd1",
        "outputId": "cf8b87f2-1a99-44a2-8f45-651aecdcd34d"
      },
      "outputs": [
        {
          "data": {
            "text/html": [
              "\n",
              "  <div id=\"df-db6391de-ffdf-4653-973e-56ceae2823ba\">\n",
              "    <div class=\"colab-df-container\">\n",
              "      <div>\n",
              "<style scoped>\n",
              "    .dataframe tbody tr th:only-of-type {\n",
              "        vertical-align: middle;\n",
              "    }\n",
              "\n",
              "    .dataframe tbody tr th {\n",
              "        vertical-align: top;\n",
              "    }\n",
              "\n",
              "    .dataframe thead th {\n",
              "        text-align: right;\n",
              "    }\n",
              "</style>\n",
              "<table border=\"1\" class=\"dataframe\">\n",
              "  <thead>\n",
              "    <tr style=\"text-align: right;\">\n",
              "      <th></th>\n",
              "      <th>Match_Id</th>\n",
              "      <th>Match_Winner_Id_x</th>\n",
              "      <th>Over_Id_x</th>\n",
              "      <th>Team_Batting_Id_x</th>\n",
              "      <th>Striker_Id_x</th>\n",
              "      <th>Non_Striker_Id_x</th>\n",
              "      <th>Player_Id_x</th>\n",
              "      <th>Team_Id_x</th>\n",
              "      <th>Outcome_x</th>\n",
              "    </tr>\n",
              "  </thead>\n",
              "  <tbody>\n",
              "    <tr>\n",
              "      <th>0</th>\n",
              "      <td>335988</td>\n",
              "      <td>3.0</td>\n",
              "      <td>7.0</td>\n",
              "      <td>3.0</td>\n",
              "      <td>20.0</td>\n",
              "      <td>0.0</td>\n",
              "      <td>20.0</td>\n",
              "      <td>3.0</td>\n",
              "      <td>1.0</td>\n",
              "    </tr>\n",
              "    <tr>\n",
              "      <th>1</th>\n",
              "      <td>335988</td>\n",
              "      <td>3.0</td>\n",
              "      <td>7.0</td>\n",
              "      <td>3.0</td>\n",
              "      <td>20.0</td>\n",
              "      <td>0.0</td>\n",
              "      <td>20.0</td>\n",
              "      <td>3.0</td>\n",
              "      <td>1.0</td>\n",
              "    </tr>\n",
              "    <tr>\n",
              "      <th>2</th>\n",
              "      <td>335988</td>\n",
              "      <td>3.0</td>\n",
              "      <td>7.0</td>\n",
              "      <td>3.0</td>\n",
              "      <td>20.0</td>\n",
              "      <td>0.0</td>\n",
              "      <td>20.0</td>\n",
              "      <td>3.0</td>\n",
              "      <td>1.0</td>\n",
              "    </tr>\n",
              "    <tr>\n",
              "      <th>3</th>\n",
              "      <td>335988</td>\n",
              "      <td>3.0</td>\n",
              "      <td>7.0</td>\n",
              "      <td>3.0</td>\n",
              "      <td>20.0</td>\n",
              "      <td>0.0</td>\n",
              "      <td>20.0</td>\n",
              "      <td>3.0</td>\n",
              "      <td>1.0</td>\n",
              "    </tr>\n",
              "    <tr>\n",
              "      <th>4</th>\n",
              "      <td>335988</td>\n",
              "      <td>3.0</td>\n",
              "      <td>7.0</td>\n",
              "      <td>3.0</td>\n",
              "      <td>20.0</td>\n",
              "      <td>0.0</td>\n",
              "      <td>20.0</td>\n",
              "      <td>3.0</td>\n",
              "      <td>1.0</td>\n",
              "    </tr>\n",
              "    <tr>\n",
              "      <th>...</th>\n",
              "      <td>...</td>\n",
              "      <td>...</td>\n",
              "      <td>...</td>\n",
              "      <td>...</td>\n",
              "      <td>...</td>\n",
              "      <td>...</td>\n",
              "      <td>...</td>\n",
              "      <td>...</td>\n",
              "      <td>...</td>\n",
              "    </tr>\n",
              "    <tr>\n",
              "      <th>125922</th>\n",
              "      <td>548366</td>\n",
              "      <td>3.0</td>\n",
              "      <td>16.0</td>\n",
              "      <td>3.0</td>\n",
              "      <td>20.0</td>\n",
              "      <td>0.0</td>\n",
              "      <td>20.0</td>\n",
              "      <td>3.0</td>\n",
              "      <td>1.0</td>\n",
              "    </tr>\n",
              "    <tr>\n",
              "      <th>125923</th>\n",
              "      <td>548366</td>\n",
              "      <td>3.0</td>\n",
              "      <td>16.0</td>\n",
              "      <td>3.0</td>\n",
              "      <td>20.0</td>\n",
              "      <td>0.0</td>\n",
              "      <td>20.0</td>\n",
              "      <td>3.0</td>\n",
              "      <td>1.0</td>\n",
              "    </tr>\n",
              "    <tr>\n",
              "      <th>125924</th>\n",
              "      <td>548366</td>\n",
              "      <td>3.0</td>\n",
              "      <td>16.0</td>\n",
              "      <td>3.0</td>\n",
              "      <td>20.0</td>\n",
              "      <td>0.0</td>\n",
              "      <td>20.0</td>\n",
              "      <td>3.0</td>\n",
              "      <td>1.0</td>\n",
              "    </tr>\n",
              "    <tr>\n",
              "      <th>125925</th>\n",
              "      <td>548366</td>\n",
              "      <td>3.0</td>\n",
              "      <td>16.0</td>\n",
              "      <td>3.0</td>\n",
              "      <td>20.0</td>\n",
              "      <td>0.0</td>\n",
              "      <td>20.0</td>\n",
              "      <td>3.0</td>\n",
              "      <td>1.0</td>\n",
              "    </tr>\n",
              "    <tr>\n",
              "      <th>125926</th>\n",
              "      <td>548366</td>\n",
              "      <td>3.0</td>\n",
              "      <td>16.0</td>\n",
              "      <td>3.0</td>\n",
              "      <td>20.0</td>\n",
              "      <td>0.0</td>\n",
              "      <td>20.0</td>\n",
              "      <td>3.0</td>\n",
              "      <td>1.0</td>\n",
              "    </tr>\n",
              "  </tbody>\n",
              "</table>\n",
              "<p>125927 rows × 9 columns</p>\n",
              "</div>\n",
              "      <button class=\"colab-df-convert\" onclick=\"convertToInteractive('df-db6391de-ffdf-4653-973e-56ceae2823ba')\"\n",
              "              title=\"Convert this dataframe to an interactive table.\"\n",
              "              style=\"display:none;\">\n",
              "        \n",
              "  <svg xmlns=\"http://www.w3.org/2000/svg\" height=\"24px\"viewBox=\"0 0 24 24\"\n",
              "       width=\"24px\">\n",
              "    <path d=\"M0 0h24v24H0V0z\" fill=\"none\"/>\n",
              "    <path d=\"M18.56 5.44l.94 2.06.94-2.06 2.06-.94-2.06-.94-.94-2.06-.94 2.06-2.06.94zm-11 1L8.5 8.5l.94-2.06 2.06-.94-2.06-.94L8.5 2.5l-.94 2.06-2.06.94zm10 10l.94 2.06.94-2.06 2.06-.94-2.06-.94-.94-2.06-.94 2.06-2.06.94z\"/><path d=\"M17.41 7.96l-1.37-1.37c-.4-.4-.92-.59-1.43-.59-.52 0-1.04.2-1.43.59L10.3 9.45l-7.72 7.72c-.78.78-.78 2.05 0 2.83L4 21.41c.39.39.9.59 1.41.59.51 0 1.02-.2 1.41-.59l7.78-7.78 2.81-2.81c.8-.78.8-2.07 0-2.86zM5.41 20L4 18.59l7.72-7.72 1.47 1.35L5.41 20z\"/>\n",
              "  </svg>\n",
              "      </button>\n",
              "      \n",
              "  <style>\n",
              "    .colab-df-container {\n",
              "      display:flex;\n",
              "      flex-wrap:wrap;\n",
              "      gap: 12px;\n",
              "    }\n",
              "\n",
              "    .colab-df-convert {\n",
              "      background-color: #E8F0FE;\n",
              "      border: none;\n",
              "      border-radius: 50%;\n",
              "      cursor: pointer;\n",
              "      display: none;\n",
              "      fill: #1967D2;\n",
              "      height: 32px;\n",
              "      padding: 0 0 0 0;\n",
              "      width: 32px;\n",
              "    }\n",
              "\n",
              "    .colab-df-convert:hover {\n",
              "      background-color: #E2EBFA;\n",
              "      box-shadow: 0px 1px 2px rgba(60, 64, 67, 0.3), 0px 1px 3px 1px rgba(60, 64, 67, 0.15);\n",
              "      fill: #174EA6;\n",
              "    }\n",
              "\n",
              "    [theme=dark] .colab-df-convert {\n",
              "      background-color: #3B4455;\n",
              "      fill: #D2E3FC;\n",
              "    }\n",
              "\n",
              "    [theme=dark] .colab-df-convert:hover {\n",
              "      background-color: #434B5C;\n",
              "      box-shadow: 0px 1px 3px 1px rgba(0, 0, 0, 0.15);\n",
              "      filter: drop-shadow(0px 1px 2px rgba(0, 0, 0, 0.3));\n",
              "      fill: #FFFFFF;\n",
              "    }\n",
              "  </style>\n",
              "\n",
              "      <script>\n",
              "        const buttonEl =\n",
              "          document.querySelector('#df-db6391de-ffdf-4653-973e-56ceae2823ba button.colab-df-convert');\n",
              "        buttonEl.style.display =\n",
              "          google.colab.kernel.accessAllowed ? 'block' : 'none';\n",
              "\n",
              "        async function convertToInteractive(key) {\n",
              "          const element = document.querySelector('#df-db6391de-ffdf-4653-973e-56ceae2823ba');\n",
              "          const dataTable =\n",
              "            await google.colab.kernel.invokeFunction('convertToInteractive',\n",
              "                                                     [key], {});\n",
              "          if (!dataTable) return;\n",
              "\n",
              "          const docLinkHtml = 'Like what you see? Visit the ' +\n",
              "            '<a target=\"_blank\" href=https://colab.research.google.com/notebooks/data_table.ipynb>data table notebook</a>'\n",
              "            + ' to learn more about interactive tables.';\n",
              "          element.innerHTML = '';\n",
              "          dataTable['output_type'] = 'display_data';\n",
              "          await google.colab.output.renderOutput(dataTable, element);\n",
              "          const docLink = document.createElement('div');\n",
              "          docLink.innerHTML = docLinkHtml;\n",
              "          element.appendChild(docLink);\n",
              "        }\n",
              "      </script>\n",
              "    </div>\n",
              "  </div>\n",
              "  "
            ],
            "text/plain": [
              "        Match_Id  Match_Winner_Id_x  Over_Id_x  Team_Batting_Id_x  \\\n",
              "0         335988                3.0        7.0                3.0   \n",
              "1         335988                3.0        7.0                3.0   \n",
              "2         335988                3.0        7.0                3.0   \n",
              "3         335988                3.0        7.0                3.0   \n",
              "4         335988                3.0        7.0                3.0   \n",
              "...          ...                ...        ...                ...   \n",
              "125922    548366                3.0       16.0                3.0   \n",
              "125923    548366                3.0       16.0                3.0   \n",
              "125924    548366                3.0       16.0                3.0   \n",
              "125925    548366                3.0       16.0                3.0   \n",
              "125926    548366                3.0       16.0                3.0   \n",
              "\n",
              "        Striker_Id_x  Non_Striker_Id_x  Player_Id_x  Team_Id_x  Outcome_x  \n",
              "0               20.0               0.0         20.0        3.0        1.0  \n",
              "1               20.0               0.0         20.0        3.0        1.0  \n",
              "2               20.0               0.0         20.0        3.0        1.0  \n",
              "3               20.0               0.0         20.0        3.0        1.0  \n",
              "4               20.0               0.0         20.0        3.0        1.0  \n",
              "...              ...               ...          ...        ...        ...  \n",
              "125922          20.0               0.0         20.0        3.0        1.0  \n",
              "125923          20.0               0.0         20.0        3.0        1.0  \n",
              "125924          20.0               0.0         20.0        3.0        1.0  \n",
              "125925          20.0               0.0         20.0        3.0        1.0  \n",
              "125926          20.0               0.0         20.0        3.0        1.0  \n",
              "\n",
              "[125927 rows x 9 columns]"
            ]
          },
          "execution_count": 135,
          "metadata": {},
          "output_type": "execute_result"
        }
      ],
      "source": [
        "bayes"
      ]
    },
    {
      "cell_type": "code",
      "execution_count": 134,
      "metadata": {
        "colab": {
          "base_uri": "https://localhost:8080/"
        },
        "id": "DRpUURuxIscm",
        "outputId": "32ef1732-f0d3-4f56-bd73-36f1fa69eede"
      },
      "outputs": [
        {
          "data": {
            "text/plain": [
              "array([1., 1., 1., ..., 1., 1., 1.])"
            ]
          },
          "execution_count": 134,
          "metadata": {},
          "output_type": "execute_result"
        }
      ],
      "source": [
        "y1"
      ]
    },
    {
      "cell_type": "code",
      "execution_count": 136,
      "metadata": {
        "id": "hA_MPAonT2NS"
      },
      "outputs": [],
      "source": [
        "X1_train,X1_test,Y1_train,Y1_test=train_test_split(x1,y1,test_size=0.25,random_state=2)"
      ]
    },
    {
      "cell_type": "code",
      "execution_count": 137,
      "metadata": {
        "id": "qIpN5bX41ebR"
      },
      "outputs": [],
      "source": [
        "import matplotlib.pyplot as plt"
      ]
    },
    {
      "cell_type": "code",
      "execution_count": 138,
      "metadata": {
        "colab": {
          "base_uri": "https://localhost:8080/"
        },
        "id": "8iIU3-Pj1k1p",
        "outputId": "ad2c5325-d2a2-4239-ce7b-97edaad609c5"
      },
      "outputs": [
        {
          "data": {
            "text/plain": [
              "GaussianNB()"
            ]
          },
          "execution_count": 138,
          "metadata": {},
          "output_type": "execute_result"
        }
      ],
      "source": [
        "from sklearn.naive_bayes import GaussianNB\n",
        "classifier = GaussianNB()\n",
        "classifier.fit(X1_train, Y1_train)\n"
      ]
    },
    {
      "cell_type": "code",
      "execution_count": 139,
      "metadata": {
        "colab": {
          "base_uri": "https://localhost:8080/"
        },
        "id": "GCSdrLAM1wce",
        "outputId": "3e2f03ee-4857-48e8-8ad8-be90ca4d9364"
      },
      "outputs": [
        {
          "name": "stderr",
          "output_type": "stream",
          "text": [
            "/usr/local/lib/python3.7/dist-packages/sklearn/naive_bayes.py:489: RuntimeWarning: divide by zero encountered in log\n",
            "  n_ij = -0.5 * np.sum(np.log(2.0 * np.pi * self.var_[i, :]))\n",
            "/usr/local/lib/python3.7/dist-packages/sklearn/naive_bayes.py:490: RuntimeWarning: invalid value encountered in true_divide\n",
            "  n_ij -= 0.5 * np.sum(((X - self.theta_[i, :]) ** 2) / (self.var_[i, :]), 1)\n"
          ]
        }
      ],
      "source": [
        "y_pred = classifier.predict(X1_test)"
      ]
    },
    {
      "cell_type": "code",
      "execution_count": 140,
      "metadata": {
        "colab": {
          "base_uri": "https://localhost:8080/"
        },
        "id": "D6EOsAI12kDl",
        "outputId": "1a41751b-84b7-484a-cd70-e16c080ef838"
      },
      "outputs": [
        {
          "data": {
            "text/plain": [
              "array([0., 0., 0., ..., 0., 0., 0.])"
            ]
          },
          "execution_count": 140,
          "metadata": {},
          "output_type": "execute_result"
        }
      ],
      "source": [
        "y_pred"
      ]
    },
    {
      "cell_type": "code",
      "execution_count": 141,
      "metadata": {
        "id": "EA4vihj012qv"
      },
      "outputs": [],
      "source": [
        "from sklearn.metrics import confusion_matrix\n",
        "ac = accuracy_score(Y1_test,y_pred)\n",
        "cm = confusion_matrix(Y1_test, y_pred)"
      ]
    },
    {
      "cell_type": "code",
      "execution_count": 142,
      "metadata": {
        "colab": {
          "base_uri": "https://localhost:8080/"
        },
        "id": "rdc0zN8l2ELv",
        "outputId": "47f1efbc-bb8e-4583-a7f8-874e9bd5bde6"
      },
      "outputs": [
        {
          "name": "stdout",
          "output_type": "stream",
          "text": [
            "0.4033415920208373\n"
          ]
        }
      ],
      "source": [
        "print(ac)"
      ]
    },
    {
      "cell_type": "code",
      "execution_count": 143,
      "metadata": {
        "colab": {
          "base_uri": "https://localhost:8080/"
        },
        "id": "_gn6eO4f2Mkv",
        "outputId": "b2f161aa-4673-4600-a141-13c2946768fa"
      },
      "outputs": [
        {
          "name": "stdout",
          "output_type": "stream",
          "text": [
            "[[12698     0]\n",
            " [18784     0]]\n"
          ]
        }
      ],
      "source": [
        "print(cm)"
      ]
    }
  ],
  "metadata": {
    "colab": {
      "collapsed_sections": [],
      "name": "IPL_Prediction.ipynb",
      "provenance": []
    },
    "kernelspec": {
      "display_name": "Python 3",
      "name": "python3"
    },
    "language_info": {
      "name": "python"
    }
  },
  "nbformat": 4,
  "nbformat_minor": 0
}
